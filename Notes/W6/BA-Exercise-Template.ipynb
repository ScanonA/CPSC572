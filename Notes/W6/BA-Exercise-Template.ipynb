{
 "cells": [
  {
   "cell_type": "markdown",
   "id": "f38061bb",
   "metadata": {},
   "source": [
    "# Barabasi-Albert Model: Degree Dynamics"
   ]
  },
  {
   "cell_type": "markdown",
   "id": "dbefa7ab",
   "metadata": {},
   "source": [
    "In this exercise, we will generate networks via the BA model and observe how the degrees of nodes evolve as the network grows.\n",
    "\n",
    "The next three cells are importing libraries and setting some plotting styles. "
   ]
  },
  {
   "cell_type": "code",
   "execution_count": 1,
   "id": "9b3a568f",
   "metadata": {},
   "outputs": [],
   "source": [
    "import networkx as nx\n",
    "import matplotlib.pyplot as plt\n",
    "import numpy as np\n",
    "import random\n",
    "from collections import defaultdict\n",
    "%matplotlib inline"
   ]
  },
  {
   "cell_type": "code",
   "execution_count": 2,
   "id": "512ea7c4",
   "metadata": {},
   "outputs": [],
   "source": [
    "almost_black = '#262626'\n",
    "plt.rcParams['text.usetex'] = False\n",
    "plt.rcParams['font.family'] = 'sans-serif'\n",
    "plt.rcParams['font.sans-serif'] = 'Arial'\n",
    "plt.rcParams['axes.edgecolor'] = almost_black\n",
    "plt.rcParams['text.color'] = almost_black\n",
    "plt.rcParams['axes.linewidth'] = 0.5\n",
    "plt.rcParams['axes.labelsize'] = 12"
   ]
  },
  {
   "cell_type": "code",
   "execution_count": 3,
   "id": "3f475937",
   "metadata": {},
   "outputs": [],
   "source": [
    "def despine():\n",
    "    ax = plt.gca()\n",
    "    ax.spines['right'].set_visible(False)\n",
    "    ax.spines['top'].set_visible(False)\n",
    "    ax.xaxis.set_ticks_position('bottom')\n",
    "    ax.yaxis.set_ticks_position('left')"
   ]
  },
  {
   "cell_type": "markdown",
   "id": "fab8f3ce",
   "metadata": {},
   "source": [
    "# Preferential attachment function"
   ]
  },
  {
   "cell_type": "markdown",
   "id": "6965d700",
   "metadata": {},
   "source": [
    "Now, we'll define a function that generates network using preferential attachment. (It's not the fastest way of coding it, but it is intuitive.)"
   ]
  },
  {
   "cell_type": "code",
   "execution_count": 5,
   "id": "6e66f51f",
   "metadata": {},
   "outputs": [],
   "source": [
    "def ba(n, m):\n",
    "    G = nx.complete_graph(m)\n",
    "    for new_node in range(m, n):\n",
    "        deg = [val for (node, val) in G.degree()]\n",
    "        p = np.array(deg)\n",
    "        p = p/sum(p)\n",
    "        nbrs = np.random.choice(G, size=m, p=p, replace=False)\n",
    "        G.add_edges_from([(new_node, nbr) for nbr in nbrs])\n",
    "        # do this as an iterator so we can look at every step of the process \n",
    "        yield G"
   ]
  },
  {
   "cell_type": "markdown",
   "id": "03281e61",
   "metadata": {},
   "source": [
    "# Exercises"
   ]
  },
  {
   "cell_type": "markdown",
   "id": "6e63da85",
   "metadata": {},
   "source": [
    "Generate a network with N = 10^4 nodes using the Barabási-Albert model with m = 4. Use as initial condition a fully connected network with m = 4 nodes.\n",
    "\n",
    "Measure the degree distribution at intermediate steps, namely when the network has 10^2, 10^3 and 10^4 nodes."
   ]
  },
  {
   "cell_type": "code",
   "execution_count": null,
   "id": "9ff34534",
   "metadata": {},
   "outputs": [],
   "source": []
  },
  {
   "cell_type": "markdown",
   "id": "2ce6e3e7",
   "metadata": {},
   "source": [
    "Compare the distributions at these intermediate steps by plotting them together. Do the distributions “converge”?"
   ]
  },
  {
   "cell_type": "code",
   "execution_count": null,
   "id": "b9810a53",
   "metadata": {},
   "outputs": [],
   "source": []
  },
  {
   "cell_type": "markdown",
   "id": "a296e289",
   "metadata": {},
   "source": [
    "Measure the average clustering coefficient as a function of N."
   ]
  },
  {
   "cell_type": "code",
   "execution_count": null,
   "id": "d8fbab54",
   "metadata": {},
   "outputs": [],
   "source": []
  },
  {
   "cell_type": "markdown",
   "id": "226b542a",
   "metadata": {},
   "source": [
    "Following Figure 5.6a (Network Science, Barabasi), measure the degree dynamics of one of the initial nodes and of the nodes added to the network at time t = 100, t = 1000 and t = 5000."
   ]
  },
  {
   "cell_type": "code",
   "execution_count": null,
   "id": "95310d68",
   "metadata": {},
   "outputs": [],
   "source": []
  }
 ],
 "metadata": {
  "kernelspec": {
   "display_name": "Python 3",
   "language": "python",
   "name": "python3"
  },
  "language_info": {
   "codemirror_mode": {
    "name": "ipython",
    "version": 3
   },
   "file_extension": ".py",
   "mimetype": "text/x-python",
   "name": "python",
   "nbconvert_exporter": "python",
   "pygments_lexer": "ipython3",
   "version": "3.8.8"
  }
 },
 "nbformat": 4,
 "nbformat_minor": 5
}
