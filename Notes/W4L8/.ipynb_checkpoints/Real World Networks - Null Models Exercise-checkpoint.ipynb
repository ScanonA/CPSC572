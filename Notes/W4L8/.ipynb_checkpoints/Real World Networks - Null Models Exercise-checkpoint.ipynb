{
 "cells": [
  {
   "cell_type": "markdown",
   "id": "3201c265",
   "metadata": {},
   "source": [
    "# Null Models\n",
    "\n",
    "In this workbook, we will look at a network of US airports and determine if its characteristics are significantly different from random networks."
   ]
  },
  {
   "cell_type": "code",
   "execution_count": 1,
   "id": "fe22a6d8",
   "metadata": {},
   "outputs": [],
   "source": [
    "# Importing the required libraries\n",
    "\n",
    "import numpy as np\n",
    "import networkx as nx\n",
    "import matplotlib.pyplot as plt\n",
    "import matplotlib as mpl\n",
    "%matplotlib inline"
   ]
  },
  {
   "cell_type": "code",
   "execution_count": 2,
   "id": "524c4078",
   "metadata": {},
   "outputs": [],
   "source": [
    "# change defaults to be less ugly\n",
    "mpl.rc('xtick', labelsize=14, color=\"#222222\") \n",
    "mpl.rc('ytick', labelsize=14, color=\"#222222\") \n",
    "mpl.rc('font', **{'family':'sans-serif','sans-serif':['Arial']})\n",
    "mpl.rc('font', size=16)\n",
    "mpl.rc('xtick.major', size=6, width=1)\n",
    "mpl.rc('xtick.minor', size=3, width=1)\n",
    "mpl.rc('ytick.major', size=6, width=1)\n",
    "mpl.rc('ytick.minor', size=3, width=1)\n",
    "mpl.rc('axes', linewidth=1, edgecolor=\"#222222\", labelcolor=\"#222222\")\n",
    "mpl.rc('text', usetex=False, color=\"#222222\")"
   ]
  },
  {
   "cell_type": "code",
   "execution_count": 3,
   "id": "146cd5d1",
   "metadata": {},
   "outputs": [],
   "source": [
    "# Function Defintions\n",
    "\n",
    "# Function to plot a degree distribution graph (P(k) vs k graph)\n",
    "def plot_degree_dist(G):\n",
    "    \n",
    "    degrees = [G.degree(n) for n in G.nodes()]\n",
    "    kmin = min(degrees)\n",
    "    kmax = max(degrees)\n",
    "    \n",
    "    if kmin>0:\n",
    "        bin_edges = np.logspace(np.log10(kmin), np.log10(kmax)+1, num=20)\n",
    "    else:\n",
    "        bin_edges = np.logspace(0, np.log10(kmax)+1, num=20)\n",
    "    density, _ = np.histogram(degrees, bins=bin_edges, density=True)\n",
    "\n",
    "    fig = plt.figure(figsize=(6,4))\n",
    "\n",
    "    log_be = np.log10(bin_edges)\n",
    "    x = 10**((log_be[1:] + log_be[:-1])/2)\n",
    "    plt.loglog(x, density, marker='o', linestyle='none')\n",
    "    plt.xlabel(r\"degree $k$\", fontsize=16)\n",
    "    plt.ylabel(r\"$P(k)$\", fontsize=16)\n",
    "\n",
    "    ax = plt.gca()\n",
    "    ax.spines['right'].set_visible(False)\n",
    "    ax.spines['top'].set_visible(False)\n",
    "    ax.yaxis.set_ticks_position('left')\n",
    "    ax.xaxis.set_ticks_position('bottom')"
   ]
  },
  {
   "cell_type": "code",
   "execution_count": 4,
   "id": "95c44b3f",
   "metadata": {},
   "outputs": [
    {
     "name": "stdout",
     "output_type": "stream",
     "text": [
      "500\n",
      "2980\n"
     ]
    }
   ],
   "source": [
    "# Read in the airport network\n",
    "\n",
    "G = nx.read_weighted_edgelist(\"USairport500.txt\")\n",
    "print(G.number_of_nodes())\n",
    "print(G.number_of_edges())"
   ]
  },
  {
   "cell_type": "code",
   "execution_count": 5,
   "id": "44f22a86",
   "metadata": {},
   "outputs": [
    {
     "data": {
      "image/png": "[encoded data removed]",
      "text/plain": [
       "<Figure size 600x400 with 1 Axes>"
      ]
     },
     "metadata": {},
     "output_type": "display_data"
    }
   ],
   "source": [
    "# Let's plot the degree distribution\n",
    "\n",
    "plot_degree_dist(G)"
   ]
  },
  {
   "cell_type": "code",
   "execution_count": 6,
   "id": "d1e71e98",
   "metadata": {},
   "outputs": [
    {
     "name": "stdout",
     "output_type": "stream",
     "text": [
      "Average Clustering Coefficient:  0.6174892374001623\n",
      "Average Shortest Path:  2.9910300601202406\n"
     ]
    }
   ],
   "source": [
    "# ...and calculate the clustering coefficient and average path length\n",
    "\n",
    "C = np.mean(list(nx.clustering(G).values()))\n",
    "d = nx.average_shortest_path_length(G,weight=None)\n",
    "\n",
    "print(\"Average Clustering Coefficient: \", C)\n",
    "print(\"Average Shortest Path: \", d)"
   ]
  },
  {
   "cell_type": "markdown",
   "id": "f89bf06f",
   "metadata": {},
   "source": [
    "## Comparing to an Erdös-Renyi graph of similar size"
   ]
  },
  {
   "cell_type": "code",
   "execution_count": null,
   "id": "b01e3d38",
   "metadata": {
    "scrolled": true
   },
   "outputs": [],
   "source": [
    "GN = len(G.nodes())\n",
    "max_L = GN*(GN-1)/2\n",
    "actual_L = len(G.edges())\n",
    "p = actual_L/max_L\n",
    "\n",
    "ER = nx.erdos_renyi_graph(GN, p, directed=False)\n",
    "\n",
    "plot_degree_dist(ER)"
   ]
  },
  {
   "cell_type": "code",
   "execution_count": null,
   "id": "ed0437e6",
   "metadata": {},
   "outputs": [],
   "source": [
    "# This is just one instance of a random graph. We need to create an ensemble.\n",
    "\n",
    "clustering_ER = []\n",
    "short_path_ER = []\n",
    "\n",
    "for i in range(100): # 1000 is better\n",
    "    \n",
    "    ER = nx.erdos_renyi_graph(GN, p, directed=False)\n",
    "    C_ER = np.mean(list(nx.clustering(ER).values()))\n",
    "    if nx.is_connected(ER)==True:\n",
    "        d_ER = nx.average_shortest_path_length(ER,weight=None)\n",
    "    clustering_ER.append(C_ER)\n",
    "    short_path_ER.append(d_ER)\n",
    "    \n",
    "print(np.mean(clustering_ER))\n",
    "print(np.std(clustering_ER))\n",
    "\n",
    "print(np.mean(short_path_ER))\n",
    "print(np.std(short_path_ER))"
   ]
  },
  {
   "cell_type": "code",
   "execution_count": null,
   "id": "35d14cde",
   "metadata": {},
   "outputs": [],
   "source": [
    "fig = plt.figure(figsize=(6,4))\n",
    "\n",
    "plt.boxplot(clustering_ER)\n",
    "plt.plot(2,C,'r',marker='+',markersize=15)\n",
    "ax = plt.gca()\n",
    "ax.set_xticks([1,2],labels=[1,2])\n",
    "plt.xlim([0.5,2.5])\n",
    "plt.show()"
   ]
  },
  {
   "cell_type": "code",
   "execution_count": null,
   "id": "528e0856",
   "metadata": {},
   "outputs": [],
   "source": [
    "fig = plt.figure(figsize=(6,4))\n",
    "\n",
    "plt.boxplot(short_path_ER)\n",
    "plt.plot(2,d,'r',marker='+',markersize=15)\n",
    "ax = plt.gca()\n",
    "ax.set_xticks([1,2],labels=[1,2])\n",
    "plt.xlim([0.5,2.5])\n",
    "plt.show()"
   ]
  },
  {
   "cell_type": "markdown",
   "id": "aeb8c091",
   "metadata": {},
   "source": [
    "## Is an ER network a fair comparison?\n",
    "\n",
    "Many network metrics are highly sensitive to the degree distribution - which can be very different in an ER network. Let's look at a degree-preserving randomisation: double edge swaps."
   ]
  },
  {
   "cell_type": "code",
   "execution_count": null,
   "id": "78b460e8",
   "metadata": {},
   "outputs": [],
   "source": [
    "# Calculating metrics for a Degree Preservation Graph\n",
    "\n",
    "DP = G.copy() # the function edits the graph in place\n",
    "\n",
    "nx.double_edge_swap(DP,nswap=10*G.number_of_edges(),max_tries=100000)\n",
    "plot_degree_dist(DP)\n",
    "plot_degree_dist(G)"
   ]
  },
  {
   "cell_type": "code",
   "execution_count": null,
   "id": "c45570fb",
   "metadata": {},
   "outputs": [],
   "source": [
    "# Let's create the ensemble.\n",
    "\n",
    "clustering_DP = []\n",
    "short_path_DP = []\n",
    "\n",
    "for i in range(100): # 1000 is better\n",
    "    \n",
    "    nx.double_edge_swap(DP,nswap=10*G.number_of_edges(),max_tries=100000)\n",
    "    C_DP = np.mean(list(nx.clustering(DP).values()))\n",
    "    if nx.is_connected(DP)==True:\n",
    "        d_DP = nx.average_shortest_path_length(DP,weight=None)\n",
    "    clustering_DP.append(C_DP)\n",
    "    short_path_DP.append(d_DP)\n",
    "    \n",
    "print(np.mean(clustering_DP))\n",
    "print(np.std(clustering_DP))\n",
    "\n",
    "print(np.mean(short_path_DP))\n",
    "print(np.std(short_path_DP))"
   ]
  },
  {
   "cell_type": "code",
   "execution_count": null,
   "id": "fc8eea21",
   "metadata": {},
   "outputs": [],
   "source": [
    "fig = plt.figure(figsize=(6,4))\n",
    "\n",
    "plt.boxplot(clustering_DP)\n",
    "plt.plot(2,C,'r',marker='+',markersize=15)\n",
    "ax = plt.gca()\n",
    "ax.set_xticks([1,2],labels=[1,2])\n",
    "plt.xlim([0.5,2.5])\n",
    "plt.show()"
   ]
  },
  {
   "cell_type": "code",
   "execution_count": null,
   "id": "e70d9f83",
   "metadata": {},
   "outputs": [],
   "source": [
    "fig = plt.figure(figsize=(6,4))\n",
    "\n",
    "plt.boxplot(short_path_DP)\n",
    "plt.plot(2,d,'r',marker='+',markersize=15)\n",
    "ax = plt.gca()\n",
    "ax.set_xticks([1,2],labels=[1,2])\n",
    "plt.xlim([0.5,2.5])\n",
    "plt.show()"
   ]
  },
  {
   "cell_type": "markdown",
   "id": "602465e2",
   "metadata": {},
   "source": [
    "## Now it's your turn\n",
    "\n",
    "You also have networks for:\n",
    "\n",
    "- Dolphin social network\n",
    "- Football network\n",
    "\n",
    "You can also visit the ICON to try out more networks.\n",
    "\n",
    "Examine their clustering and shortest path lengths and compare to suitable random networks. Are they higher or lower than expected? What might this mean?"
   ]
  },
  {
   "cell_type": "code",
   "execution_count": null,
   "id": "3644a5d6",
   "metadata": {},
   "outputs": [],
   "source": []
  },
  {
   "cell_type": "code",
   "execution_count": null,
   "id": "89c970ee",
   "metadata": {},
   "outputs": [],
   "source": []
  },
  {
   "cell_type": "code",
   "execution_count": null,
   "id": "f39d4526",
   "metadata": {},
   "outputs": [],
   "source": []
  },
  {
   "cell_type": "code",
   "execution_count": null,
   "id": "560583ef",
   "metadata": {},
   "outputs": [],
   "source": []
  }
 ],
 "metadata": {
  "kernelspec": {
   "display_name": "Python 3 (ipykernel)",
   "language": "python",
   "name": "python3"
  },
  "language_info": {
   "codemirror_mode": {
    "name": "ipython",
    "version": 3
   },
   "file_extension": ".py",
   "mimetype": "text/x-python",
   "name": "python",
   "nbconvert_exporter": "python",
   "pygments_lexer": "ipython3",
   "version": "3.10.0"
  }
 },
 "nbformat": 4,
 "nbformat_minor": 5
}
