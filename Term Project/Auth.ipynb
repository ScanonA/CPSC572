{
 "cells": [
  {
   "cell_type": "code",
   "execution_count": 1,
   "id": "fe5626b9",
   "metadata": {},
   "outputs": [],
   "source": [
    "#import libraries\n",
    "import base64\n",
    "import requests\n",
    "import datetime\n",
    "from urllib.parse import urlencode"
   ]
  },
  {
   "cell_type": "code",
   "execution_count": 2,
   "id": "8025e33d",
   "metadata": {},
   "outputs": [],
   "source": [
    "#setting up variables\n",
    "client_id = '5aedd1d0682f46618896dcea6108e3b4'\n",
    "client_secret = 'e3c2c283017d452a93ddc951053196d2'\n",
    "access_token = None"
   ]
  },
  {
   "cell_type": "code",
   "execution_count": 3,
   "id": "346fcc81",
   "metadata": {},
   "outputs": [],
   "source": [
    "#https://www.youtube.com/watch?v=xdq6Gz33khQ&t=1318s\n",
    "#code derived from link above\n",
    "class SpotifyAPI():\n",
    "    access_token = None\n",
    "    access_token_expires = None\n",
    "    access_token_hasExpired = True\n",
    "    c_id = None\n",
    "    c_secret = None\n",
    "    token_url = \"https://accounts.spotify.com/api/token\"\n",
    "    \n",
    "    def __init__(self, client_id, client_secret):\n",
    "        self.client_id = client_id\n",
    "        self.client_secret = client_secret\n",
    "\n",
    "    def encode_credentials (self):\n",
    "        id = self.client_id\n",
    "        secret = self.client_secret\n",
    "        if secret == None or id == None:\n",
    "            raise Exception(\"client id or secret is not set\")\n",
    "        client_creds = f\"{id}:{secret}\"\n",
    "        client_creds_b64 = base64.b64encode(client_creds.encode())\n",
    "        return client_creds_b64.decode()\n",
    "    \n",
    "    def token_headers(self):\n",
    "        c64_credentials = self.encode_credentials()\n",
    "        return {\n",
    "            \"Authorization\": f\"Basic {c64_credentials}\"\n",
    "        }\n",
    "    \n",
    "    def token_data(self):\n",
    "        return {\n",
    "            \"grant_type\": \"client_credentials\"\n",
    "        }\n",
    "    \n",
    "    def get_auth(self):\n",
    "        r= requests.post(self.token_url, data=self.token_data(), headers=self.token_headers())\n",
    "        if r.status_code in range(200,299):\n",
    "            now = datetime.datetime.now()\n",
    "            self.access_token = r.json()['access_token']\n",
    "            expires = now + datetime.timedelta(seconds=r.json()['expires_in'])\n",
    "            self.access_token_expires = expires\n",
    "            self.access_token_hasExpired = expires < now\n",
    "            print(\"success\")\n",
    "        print(r.status_code)"
   ]
  },
  {
   "cell_type": "code",
   "execution_count": 13,
   "id": "6d83a370",
   "metadata": {},
   "outputs": [],
   "source": [
    "class SpotifyQuery():\n",
    "    headers = None\n",
    "    artist_lookup = None\n",
    "    endpoint_url = \"https://api.spotify.com/v1/search?\"\n",
    "    endpoint_query = None\n",
    "    endpoint = None\n",
    "    \n",
    "    def __init__(self, access_token):\n",
    "        self.headers = {\n",
    "                \"Authorization\": f\"Bearer {access_token}\"\n",
    "        }\n",
    "    \n",
    "    \n",
    "    def get_searchQuery(self):\n",
    "        artist_list = ReadArtists.getList()\n",
    "        for i in artist_list:\n",
    "            artist_lookup = i\n",
    "            endpoint_query = urlencode({\"q\": artist_lookup,\"type\": \"artist\"})\n",
    "            self.endpoint = self.endpoint_url+endpoint_query\n",
    "            #print(self.endpoint)\n",
    "            #print(self.headers)\n",
    "            r = requests.get(self.endpoint, headers = self.headers)\n",
    "            #print(r.text)\n",
    "            for j in r.json()['artists']['items']:\n",
    "                print(j['name']+\": \"+j['id'])\n",
    "            #print(r.json()['artists']['items'][0]['id'])\n",
    "        return \n",
    "          \n",
    "    "
   ]
  },
  {
   "cell_type": "code",
   "execution_count": 5,
   "id": "635209fa",
   "metadata": {},
   "outputs": [],
   "source": [
    "class ReadArtists():\n",
    "    artist_list = None\n",
    "    \n",
    "    def getList():\n",
    "        file = open(\"artists.txt\",\"r\")\n",
    "        raw_list = file.read()\n",
    "        artist_list = raw_list.split(\";\")\n",
    "        #print (artist_list)\n",
    "        return artist_list\n",
    "    \n",
    "    "
   ]
  },
  {
   "cell_type": "code",
   "execution_count": 6,
   "id": "ae11cdf1",
   "metadata": {},
   "outputs": [],
   "source": [
    "spotify = SpotifyAPI(client_id, client_secret)"
   ]
  },
  {
   "cell_type": "code",
   "execution_count": 7,
   "id": "012200b4",
   "metadata": {},
   "outputs": [
    {
     "name": "stdout",
     "output_type": "stream",
     "text": [
      "success\n",
      "200\n"
     ]
    }
   ],
   "source": [
    "spotify.get_auth()"
   ]
  },
  {
   "cell_type": "code",
   "execution_count": 14,
   "id": "793c0b92",
   "metadata": {},
   "outputs": [
    {
     "name": "stdout",
     "output_type": "stream",
     "text": [
      "Drake: 3TVXtAsR1Inumwj472S9r4\n",
      "Drakeo the Ruler: 0p4ViyfJUTW0IT4SCBLexf\n",
      "Drake Milligan: 4mskfuiHWZ3nX3qAdeaGiR\n",
      "Drake White: 29ijED2bnnprp2TciAK1aO\n",
      "Nick Drake: 5c3GLXai8YOMid29ZEuR9y\n",
      "Drake Bell: 03ilIKH0i08IxmjKcn63ne\n",
      "BlocBoy JB: 4TEJudQY2pXxVHPE3gD2EU\n",
      "Drakeford: 5M7hCkA0s91a3BqfktxLfK\n",
      "Ashley Drake: 2j5xv1bAFJ3Rpd8jNSJrUA\n",
      "Smiley: 6jeg7JBX9J9097esK752iR\n",
      "Drake Jensen: 60nVsIG4ryRtxYfzPk5Jb3\n",
      "Jamie Drake: 7rvB7ONJSqlmaCrcbhelir\n",
      "Karaoke All Hits: 46Ii49KGTckWh6cx3wObIo\n",
      "Drakeo Ruler: 3otiOVjkX9n8w6msehPaqI\n",
      "Eleni Drake: 2y7pPMQioLwMFUKhK9Pyow\n",
      "DJ Khaled: 0QHgL1lAIqAw0HtD7YldmP\n",
      "Drakensang: 2ekAQJaUrnLWfvamRRQwom\n",
      "Christopher Drake: 3KLA7mvD10XxcjRbo3uTdB\n",
      "Baka Not Nice: 3yvCFkK57FXH7JIwZQ5CmU\n",
      "Drake Remoray: 78GTiDlyrzJyxdEVpt3u4R\n",
      "Bad Bunny: 4q3ewBCX7sLwd24euuV69X\n",
      "Bad Bunny Zombie: 3JAKWLBL9jZ5Ad3KWc04eU\n",
      "Cardi B - Bad Bunny: 1KfgiTqlxf9h5ncnlL6vzt\n",
      "Gigolo Y La Exce: 7lCRuW6BSXGAsxuQV9lR0i\n",
      "Bad Bunny Trap: 3LSkCPMcNIbOscoVhky6ce\n",
      "bunny baaby bad: 1LCD5lfYd2aP1GtX1VJc3X\n",
      "Jory Boy: 5lFhCi03HDneWzvCxGctrT\n",
      "Tiko: 0iv7RfSxMSAvCzCVnxys6g\n",
      "Dead Bad Bunny: 3dJzwISoDyeRgflMly1EcE\n",
      "Pau Hernandez: 1jaYTVD3HFlhuGo8ObC6Ed\n",
      "Mr Bad Bunny: 0thiRBGoXU2kENAMaBL8dP\n",
      "Trap Capos: 2pQAUIesBqfT87PaM1ijtk\n",
      "RHLM Aa: 4KQcsaSbUWeWbJ7o3Y5Uha\n",
      "Bad Pepa Bunny: 1y3Ebk2jgtnSj9WyWsDhQi\n",
      "Bryant Myers: 6w9ToX5slZ4uIdmD17hJ3c\n",
      "Tainy: 0GM7qgcRCORpGnfcN2tCiB\n",
      "Jhay Cortez: 0EFisYRi20PTADoJrifHrz\n",
      "Ingratax: 62YF0FglEltB3CnVIjoko8\n",
      "Omy de Oro: 65jIUih0ZeTUJhSTRuYxpi\n",
      "Jossef: 7kaC28XGoTp1ViSZAA0iuX\n"
     ]
    }
   ],
   "source": [
    "access_token = spotify.access_token\n",
    "query = SpotifyQuery(access_token)\n",
    "query.get_searchQuery()"
   ]
  },
  {
   "cell_type": "code",
   "execution_count": null,
   "id": "65d52eec",
   "metadata": {},
   "outputs": [],
   "source": [
    "ReadArtists.getList()"
   ]
  },
  {
   "cell_type": "code",
   "execution_count": null,
   "id": "9f4ba41b",
   "metadata": {},
   "outputs": [],
   "source": []
  }
 ],
 "metadata": {
  "kernelspec": {
   "display_name": "Python 3 (ipykernel)",
   "language": "python",
   "name": "python3"
  },
  "language_info": {
   "codemirror_mode": {
    "name": "ipython",
    "version": 3
   },
   "file_extension": ".py",
   "mimetype": "text/x-python",
   "name": "python",
   "nbconvert_exporter": "python",
   "pygments_lexer": "ipython3",
   "version": "3.10.1"
  }
 },
 "nbformat": 4,
 "nbformat_minor": 5
}
