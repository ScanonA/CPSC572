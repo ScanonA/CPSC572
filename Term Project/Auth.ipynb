{
 "cells": [
  {
   "cell_type": "code",
   "execution_count": 7,
   "id": "fe5626b9",
   "metadata": {},
   "outputs": [],
   "source": [
    "#import libraries\n",
    "import base64\n",
    "import requests\n",
    "import datetime\n",
    "from urllib.parse import urlencode"
   ]
  },
  {
   "cell_type": "code",
   "execution_count": 8,
   "id": "8025e33d",
   "metadata": {},
   "outputs": [],
   "source": [
    "#setting up variables\n",
    "client_id = '5aedd1d0682f46618896dcea6108e3b4'\n",
    "client_secret = 'e3c2c283017d452a93ddc951053196d2'\n",
    "access_token = None"
   ]
  },
  {
   "cell_type": "code",
   "execution_count": 9,
   "id": "346fcc81",
   "metadata": {},
   "outputs": [],
   "source": [
    "#https://www.youtube.com/watch?v=xdq6Gz33khQ&t=1318s\n",
    "#code derived from link above\n",
    "class SpotifyAPI():\n",
    "    access_token = None\n",
    "    access_token_expires = None\n",
    "    access_token_hasExpired = True\n",
    "    c_id = None\n",
    "    c_secret = None\n",
    "    token_url = \"https://accounts.spotify.com/api/token\"\n",
    "    \n",
    "    def __init__(self, client_id, client_secret):\n",
    "        self.client_id = client_id\n",
    "        self.client_secret = client_secret\n",
    "\n",
    "    def encode_credentials (self):\n",
    "        id = self.client_id\n",
    "        secret = self.client_secret\n",
    "        if secret == None or id == None:\n",
    "            raise Exception(\"client id or secret is not set\")\n",
    "        client_creds = f\"{id}:{secret}\"\n",
    "        client_creds_b64 = base64.b64encode(client_creds.encode())\n",
    "        return client_creds_b64.decode()\n",
    "    \n",
    "    def token_headers(self):\n",
    "        c64_credentials = self.encode_credentials()\n",
    "        return {\n",
    "            \"Authorization\": f\"Basic {c64_credentials}\"\n",
    "        }\n",
    "    \n",
    "    def token_data(self):\n",
    "        return {\n",
    "            \"grant_type\": \"client_credentials\"\n",
    "        }\n",
    "    \n",
    "    def get_auth(self):\n",
    "        r= requests.post(self.token_url, data=self.token_data(), headers=self.token_headers())\n",
    "        if r.status_code in range(200,299):\n",
    "            now = datetime.datetime.now()\n",
    "            self.access_token = r.json()['access_token']\n",
    "            expires = now + datetime.timedelta(seconds=r.json()['expires_in'])\n",
    "            self.access_token_expires = expires\n",
    "            self.access_token_hasExpired = expires < now\n",
    "            print(\"success\")\n",
    "        print(r.status_code)"
   ]
  },
  {
   "cell_type": "code",
   "execution_count": 24,
   "id": "6d83a370",
   "metadata": {},
   "outputs": [],
   "source": [
    "class SpotifyQuery():\n",
    "    headers = None\n",
    "    artist_lookup = None\n",
    "    endpoint_url = \"https://api.spotify.com/v1/search?\"\n",
    "    endpoint_query = None\n",
    "    endpoint = None\n",
    "    artist_row = []\n",
    "    \n",
    "    def __init__(self, access_token):\n",
    "        self.headers = {\n",
    "                \"Authorization\": f\"Bearer {access_token}\"\n",
    "        }\n",
    "    \n",
    "    \n",
    "    def get_artistid(self):\n",
    "        artist_list = ReadArtists.getList()\n",
    "        for i in artist_list:\n",
    "            col = []\n",
    "            artist_lookup = i\n",
    "            endpoint_query = urlencode({\"q\": artist_lookup,\"type\": \"artist\", \"limit\": \"1\"})\n",
    "            self.endpoint = self.endpoint_url+endpoint_query\n",
    "            r = requests.get(self.endpoint, headers = self.headers)\n",
    "            items = r.json()['artists']['items'][0]\n",
    "            col.append(items['name'])\n",
    "            col.append(items['id'])\n",
    "            self.artist_row.append(col)\n",
    "            print(items)\n",
    "    \n",
    "    #def get_albums(self):\n",
    "     #   for i in artist_row:\n",
    "      #      artist_id = i[1]\n",
    "            \n",
    "          \n",
    "    "
   ]
  },
  {
   "cell_type": "code",
   "execution_count": 18,
   "id": "635209fa",
   "metadata": {},
   "outputs": [],
   "source": [
    "class ReadArtists():\n",
    "    artist_list = None\n",
    "    \n",
    "    #reading all the artist from this list. all artist names will be held here\n",
    "    def getList():\n",
    "        file = open(\"artists.txt\",\"r\")\n",
    "        raw_list = file.read()\n",
    "        artist_list = raw_list.split(\";\")\n",
    "        file.close()\n",
    "        return artist_list\n",
    "    \n",
    "   # def writeList(filename):\n",
    "    #    with open(filename, 'w') as f:\n",
    "            \n",
    "    \n",
    "    "
   ]
  },
  {
   "cell_type": "code",
   "execution_count": 19,
   "id": "ae11cdf1",
   "metadata": {},
   "outputs": [],
   "source": [
    "spotify = SpotifyAPI(client_id, client_secret)"
   ]
  },
  {
   "cell_type": "code",
   "execution_count": 20,
   "id": "012200b4",
   "metadata": {},
   "outputs": [
    {
     "name": "stdout",
     "output_type": "stream",
     "text": [
      "success\n",
      "200\n"
     ]
    }
   ],
   "source": [
    "spotify.get_auth()"
   ]
  },
  {
   "cell_type": "code",
   "execution_count": 25,
   "id": "793c0b92",
   "metadata": {},
   "outputs": [
    {
     "name": "stdout",
     "output_type": "stream",
     "text": [
      "{'external_urls': {'spotify': 'https://open.spotify.com/artist/3TVXtAsR1Inumwj472S9r4'}, 'followers': {'href': None, 'total': 67370935}, 'genres': ['canadian hip hop', 'canadian pop', 'hip hop', 'rap', 'toronto rap'], 'href': 'https://api.spotify.com/v1/artists/3TVXtAsR1Inumwj472S9r4', 'id': '3TVXtAsR1Inumwj472S9r4', 'images': [{'height': 640, 'url': 'https://i.scdn.co/image/ab6761610000e5eb4293385d324db8558179afd9', 'width': 640}, {'height': 320, 'url': 'https://i.scdn.co/image/ab676161000051744293385d324db8558179afd9', 'width': 320}, {'height': 160, 'url': 'https://i.scdn.co/image/ab6761610000f1784293385d324db8558179afd9', 'width': 160}], 'name': 'Drake', 'popularity': 95, 'type': 'artist', 'uri': 'spotify:artist:3TVXtAsR1Inumwj472S9r4'}\n",
      "{'external_urls': {'spotify': 'https://open.spotify.com/artist/4q3ewBCX7sLwd24euuV69X'}, 'followers': {'href': None, 'total': 56691222}, 'genres': ['reggaeton', 'trap latino'], 'href': 'https://api.spotify.com/v1/artists/4q3ewBCX7sLwd24euuV69X', 'id': '4q3ewBCX7sLwd24euuV69X', 'images': [{'height': 640, 'url': 'https://i.scdn.co/image/ab6761610000e5eb8ee9a6f54dcbd4bc95126b14', 'width': 640}, {'height': 320, 'url': 'https://i.scdn.co/image/ab676161000051748ee9a6f54dcbd4bc95126b14', 'width': 320}, {'height': 160, 'url': 'https://i.scdn.co/image/ab6761610000f1788ee9a6f54dcbd4bc95126b14', 'width': 160}], 'name': 'Bad Bunny', 'popularity': 100, 'type': 'artist', 'uri': 'spotify:artist:4q3ewBCX7sLwd24euuV69X'}\n"
     ]
    },
    {
     "data": {
      "text/plain": [
       "[['Drake', '3TVXtAsR1Inumwj472S9r4'], ['Bad Bunny', '4q3ewBCX7sLwd24euuV69X']]"
      ]
     },
     "execution_count": 25,
     "metadata": {},
     "output_type": "execute_result"
    }
   ],
   "source": [
    "access_token = spotify.access_token\n",
    "query = SpotifyQuery(access_token)\n",
    "query.get_artistid()\n",
    "query.artist_row"
   ]
  },
  {
   "cell_type": "code",
   "execution_count": 16,
   "id": "65d52eec",
   "metadata": {},
   "outputs": [
    {
     "data": {
      "text/plain": [
       "['Drake', 'Bad Bunny']"
      ]
     },
     "execution_count": 16,
     "metadata": {},
     "output_type": "execute_result"
    }
   ],
   "source": [
    "ReadArtists.getList()"
   ]
  },
  {
   "cell_type": "code",
   "execution_count": null,
   "id": "9f4ba41b",
   "metadata": {},
   "outputs": [],
   "source": []
  }
 ],
 "metadata": {
  "kernelspec": {
   "display_name": "Python 3 (ipykernel)",
   "language": "python",
   "name": "python3"
  },
  "language_info": {
   "codemirror_mode": {
    "name": "ipython",
    "version": 3
   },
   "file_extension": ".py",
   "mimetype": "text/x-python",
   "name": "python",
   "nbconvert_exporter": "python",
   "pygments_lexer": "ipython3",
   "version": "3.10.0"
  }
 },
 "nbformat": 4,
 "nbformat_minor": 5
}
