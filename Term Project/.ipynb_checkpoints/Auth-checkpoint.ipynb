{
 "cells": [
  {
   "cell_type": "code",
   "execution_count": 1,
   "id": "fe5626b9",
   "metadata": {},
   "outputs": [],
   "source": [
    "#import libraries\n",
    "import base64\n",
    "import requests #pip install requests\n",
    "import datetime\n",
    "from urllib.parse import urlencode"
   ]
  },
  {
   "cell_type": "code",
   "execution_count": 2,
   "id": "8025e33d",
   "metadata": {},
   "outputs": [],
   "source": [
    "#setting up variables\n",
    "client_id = '5aedd1d0682f46618896dcea6108e3b4'\n",
    "client_secret = 'e3c2c283017d452a93ddc951053196d2'\n",
    "access_token = None"
   ]
  },
  {
   "cell_type": "code",
   "execution_count": 3,
   "id": "346fcc81",
   "metadata": {},
   "outputs": [],
   "source": [
    "#https://www.youtube.com/watch?v=xdq6Gz33khQ&t=1318s\n",
    "#code derived from link above\n",
    "class SpotifyAPI():\n",
    "    access_token = None\n",
    "    access_token_expires = None\n",
    "    access_token_hasExpired = True\n",
    "    c_id = None\n",
    "    c_secret = None\n",
    "    token_url = \"https://accounts.spotify.com/api/token\"\n",
    "    \n",
    "    def __init__(self, client_id, client_secret):\n",
    "        self.client_id = client_id\n",
    "        self.client_secret = client_secret\n",
    "\n",
    "    def encode_credentials (self):\n",
    "        id = self.client_id\n",
    "        secret = self.client_secret\n",
    "        if secret == None or id == None:\n",
    "            raise Exception(\"client id or secret is not set\")\n",
    "        client_creds = f\"{id}:{secret}\"\n",
    "        client_creds_b64 = base64.b64encode(client_creds.encode())\n",
    "        return client_creds_b64.decode()\n",
    "    \n",
    "    def token_headers(self):\n",
    "        c64_credentials = self.encode_credentials()\n",
    "        return {\n",
    "            \"Authorization\": f\"Basic {c64_credentials}\"\n",
    "        }\n",
    "    \n",
    "    def token_data(self):\n",
    "        return {\n",
    "            \"grant_type\": \"client_credentials\"\n",
    "        }\n",
    "    \n",
    "    def get_auth(self):\n",
    "        r= requests.post(self.token_url, data=self.token_data(), headers=self.token_headers())\n",
    "        if r.status_code in range(200,299):\n",
    "            now = datetime.datetime.now()\n",
    "            self.access_token = r.json()['access_token']\n",
    "            expires = now + datetime.timedelta(seconds=r.json()['expires_in'])\n",
    "            self.access_token_expires = expires\n",
    "            self.access_token_hasExpired = expires < now\n",
    "            print(\"success\")\n",
    "        print(r.status_code)"
   ]
  },
  {
   "cell_type": "code",
   "execution_count": 12,
   "id": "6d83a370",
   "metadata": {},
   "outputs": [],
   "source": [
    "class SpotifyQuery():\n",
    "    headers = None\n",
    "    artist_lookup = None\n",
    "    endpoint_url = \"https://api.spotify.com/v1/\"\n",
    "    endpoint_type = None\n",
    "    enpoint_limit = None\n",
    "    endpoint = None\n",
    "    artist_row = []\n",
    "    \n",
    "    def __init__(self, access_token):\n",
    "        self.headers = {\n",
    "                \"Authorization\": f\"Bearer {access_token}\"\n",
    "        }\n",
    "        \n",
    "    def calc(limit, counter):\n",
    "        offset = limit*counter-1\n",
    "        #self.counter+1\n",
    "        return offset \n",
    "    \n",
    "    def get_artistid(self):\n",
    "        artist_list = ReadArtists.getList()\n",
    "        self.endpoint_type = \"search?\"\n",
    "        self.endpoint_limit = \"1\"\n",
    "        for i in artist_list:\n",
    "            col = []\n",
    "            artist_lookup = i\n",
    "            endpoint_query = urlencode({\"q\": artist_lookup,\"type\": \"artist\", \"limit\": self.endpoint_limit})\n",
    "            self.endpoint = self.endpoint_url+self.endpoint_type+endpoint_query\n",
    "            r = requests.get(self.endpoint, headers = self.headers)\n",
    "            items = r.json()['artists']['items'][0]\n",
    "            col.append(items['name'])\n",
    "            col.append(items['id'])\n",
    "            self.artist_row.append(col)\n",
    "            #print(items)\n",
    "    \n",
    "    def get_albums(self):\n",
    "        self.endpoint_limit = 50\n",
    "        offset_counter = 0\n",
    "        for i in self.artist_row:\n",
    "            artist_id = i[1]\n",
    "            self.endpoint_type = \"artists/\"+artist_id+\"/albums?\"\n",
    "            offset = calc(self.endpoint_limit, offset_counter)\n",
    "            print(offset_counter)\n",
    "            endpoint_query = urlencode({\"include_groups\": \"single\", \"limit\": self.endpoint_limit, \"offset\": offset})\n",
    "          \n",
    "    "
   ]
  },
  {
   "cell_type": "code",
   "execution_count": 5,
   "id": "635209fa",
   "metadata": {},
   "outputs": [],
   "source": [
    "class ReadArtists():\n",
    "    artist_list = None\n",
    "    \n",
    "    #reading all the artist from this list. all artist names will be held here\n",
    "    def getList():\n",
    "        file = open(\"artists.txt\",\"r\")\n",
    "        raw_list = file.read()\n",
    "        artist_list = raw_list.split(\";\")\n",
    "        file.close()\n",
    "        return artist_list\n",
    "    \n",
    "   # def writeList(filename):\n",
    "    #    with open(filename, 'w') as f:\n",
    "            \n",
    "    \n",
    "    "
   ]
  },
  {
   "cell_type": "code",
   "execution_count": 6,
   "id": "ae11cdf1",
   "metadata": {},
   "outputs": [],
   "source": [
    "spotify = SpotifyAPI(client_id, client_secret)"
   ]
  },
  {
   "cell_type": "code",
   "execution_count": 7,
   "id": "012200b4",
   "metadata": {},
   "outputs": [
    {
     "name": "stdout",
     "output_type": "stream",
     "text": [
      "success\n",
      "200\n"
     ]
    }
   ],
   "source": [
    "spotify.get_auth()"
   ]
  },
  {
   "cell_type": "code",
   "execution_count": 13,
   "id": "793c0b92",
   "metadata": {},
   "outputs": [
    {
     "ename": "NameError",
     "evalue": "name 'calc' is not defined",
     "output_type": "error",
     "traceback": [
      "\u001b[1;31m---------------------------------------------------------------------------\u001b[0m",
      "\u001b[1;31mNameError\u001b[0m                                 Traceback (most recent call last)",
      "Cell \u001b[1;32mIn [13], line 5\u001b[0m\n\u001b[0;32m      3\u001b[0m query\u001b[38;5;241m.\u001b[39mget_artistid()\n\u001b[0;32m      4\u001b[0m query\u001b[38;5;241m.\u001b[39martist_row\n\u001b[1;32m----> 5\u001b[0m \u001b[43mquery\u001b[49m\u001b[38;5;241;43m.\u001b[39;49m\u001b[43mget_albums\u001b[49m\u001b[43m(\u001b[49m\u001b[43m)\u001b[49m\n",
      "Cell \u001b[1;32mIn [12], line 42\u001b[0m, in \u001b[0;36mSpotifyQuery.get_albums\u001b[1;34m(self)\u001b[0m\n\u001b[0;32m     40\u001b[0m artist_id \u001b[38;5;241m=\u001b[39m i[\u001b[38;5;241m1\u001b[39m]\n\u001b[0;32m     41\u001b[0m \u001b[38;5;28mself\u001b[39m\u001b[38;5;241m.\u001b[39mendpoint_type \u001b[38;5;241m=\u001b[39m \u001b[38;5;124m\"\u001b[39m\u001b[38;5;124martists/\u001b[39m\u001b[38;5;124m\"\u001b[39m\u001b[38;5;241m+\u001b[39martist_id\u001b[38;5;241m+\u001b[39m\u001b[38;5;124m\"\u001b[39m\u001b[38;5;124m/albums?\u001b[39m\u001b[38;5;124m\"\u001b[39m\n\u001b[1;32m---> 42\u001b[0m offset \u001b[38;5;241m=\u001b[39m \u001b[43mcalc\u001b[49m(\u001b[38;5;28mself\u001b[39m\u001b[38;5;241m.\u001b[39mendpoint_limit, offset_counter)\n\u001b[0;32m     43\u001b[0m \u001b[38;5;28mprint\u001b[39m(offset_counter)\n\u001b[0;32m     44\u001b[0m endpoint_query \u001b[38;5;241m=\u001b[39m urlencode({\u001b[38;5;124m\"\u001b[39m\u001b[38;5;124minclude_groups\u001b[39m\u001b[38;5;124m\"\u001b[39m: \u001b[38;5;124m\"\u001b[39m\u001b[38;5;124msingle\u001b[39m\u001b[38;5;124m\"\u001b[39m, \u001b[38;5;124m\"\u001b[39m\u001b[38;5;124mlimit\u001b[39m\u001b[38;5;124m\"\u001b[39m: \u001b[38;5;28mself\u001b[39m\u001b[38;5;241m.\u001b[39mendpoint_limit, \u001b[38;5;124m\"\u001b[39m\u001b[38;5;124moffset\u001b[39m\u001b[38;5;124m\"\u001b[39m: offset})\n",
      "\u001b[1;31mNameError\u001b[0m: name 'calc' is not defined"
     ]
    }
   ],
   "source": [
    "access_token = spotify.access_token\n",
    "query = SpotifyQuery(access_token)\n",
    "query.get_artistid()\n",
    "query.artist_row\n",
    "query.get_albums()"
   ]
  },
  {
   "cell_type": "code",
   "execution_count": 14,
   "id": "65d52eec",
   "metadata": {},
   "outputs": [
    {
     "data": {
      "text/plain": [
       "['Drake', 'Bad Bunny']"
      ]
     },
     "execution_count": 14,
     "metadata": {},
     "output_type": "execute_result"
    }
   ],
   "source": [
    "ReadArtists.getList()"
   ]
  },
  {
   "cell_type": "code",
   "execution_count": null,
   "id": "9f4ba41b",
   "metadata": {},
   "outputs": [],
   "source": []
  }
 ],
 "metadata": {
  "kernelspec": {
   "display_name": "Python 3 (ipykernel)",
   "language": "python",
   "name": "python3"
  },
  "language_info": {
   "codemirror_mode": {
    "name": "ipython",
    "version": 3
   },
   "file_extension": ".py",
   "mimetype": "text/x-python",
   "name": "python",
   "nbconvert_exporter": "python",
   "pygments_lexer": "ipython3",
   "version": "3.10.0"
  }
 },
 "nbformat": 4,
 "nbformat_minor": 5
}
