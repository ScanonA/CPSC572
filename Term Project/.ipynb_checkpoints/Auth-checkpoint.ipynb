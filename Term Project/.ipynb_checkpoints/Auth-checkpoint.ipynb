{
 "cells": [
  {
   "cell_type": "code",
   "execution_count": null,
   "id": "fe5626b9",
   "metadata": {},
   "outputs": [],
   "source": [
    "#import libraries\n",
    "import base64\n",
    "import requests\n",
    "import datetime\n",
    "import urllib.parse\n",
    "import urlencode"
   ]
  },
  {
   "cell_type": "code",
   "execution_count": null,
   "id": "8025e33d",
   "metadata": {},
   "outputs": [],
   "source": [
    "#setting up variables\n",
    "client_id = '5aedd1d0682f46618896dcea6108e3b4'\n",
    "client_secret = 'e3c2c283017d452a93ddc951053196d2'\n",
    "access_token = None"
   ]
  },
  {
   "cell_type": "code",
   "execution_count": null,
   "id": "346fcc81",
   "metadata": {},
   "outputs": [],
   "source": [
    "#https://www.youtube.com/watch?v=xdq6Gz33khQ&t=1318s\n",
    "#code derived from link above\n",
    "class SpotifyAPI():\n",
    "    access_token = None\n",
    "    access_token_expires = None\n",
    "    access_token_hasExpired = True\n",
    "    c_id = None\n",
    "    c_secret = None\n",
    "    token_url = \"https://accounts.spotify.com/api/token\"\n",
    "    \n",
    "    def __init__(self, client_id, client_secret):\n",
    "        self.client_id = client_id\n",
    "        self.client_secret = client_secret\n",
    "\n",
    "    def encode_credentials (self):\n",
    "        id = self.client_id\n",
    "        secret = self.client_secret\n",
    "        if secret == None or id == None:\n",
    "            raise Exception(\"client id or secret is not set\")\n",
    "        client_creds = f\"{id}:{secret}\"\n",
    "        client_creds_b64 = base64.b64encode(client_creds.encode())\n",
    "        return client_creds_b64.decode()\n",
    "    \n",
    "    def token_headers(self):\n",
    "        c64_credentials = self.encode_credentials()\n",
    "        return {\n",
    "            \"Authorization\": f\"Basic {c64_credentials}\"\n",
    "        }\n",
    "    \n",
    "    def token_data(self):\n",
    "        return {\n",
    "            \"grant_type\": \"client_credentials\"\n",
    "        }\n",
    "    \n",
    "    def get_auth(self):\n",
    "        r= requests.post(self.token_url, data=self.token_data(), headers=self.token_headers())\n",
    "        if r.status_code in range(200,299):\n",
    "            now = datetime.datetime.now()\n",
    "            self.access_token = r.json()['access_token']\n",
    "            expires = now + datetime.timedelta(seconds=r.json()['expires_in'])\n",
    "            self.access_token_expires = expires\n",
    "            self.access_token_hasExpired = expires < now\n",
    "            print(\"success\")\n",
    "        print(r.status_code)"
   ]
  },
  {
   "cell_type": "code",
   "execution_count": null,
   "id": "538f72e8",
   "metadata": {},
   "outputs": [],
   "source": [
    "class SpotifyQuery():\n",
    "    headers_token = None\n",
    "    artist_lookup = \"Drake\"\n",
    "    endpoint_url = \"https://api.spotify.com/v1/search?\"\n",
    "    "
   ]
  },
  {
   "cell_type": "code",
   "execution_count": null,
   "id": "ae11cdf1",
   "metadata": {},
   "outputs": [],
   "source": [
    "spotify = SpotifyAPI(client_id, client_secret)"
   ]
  },
  {
   "cell_type": "code",
   "execution_count": null,
   "id": "012200b4",
   "metadata": {},
   "outputs": [],
   "source": [
    "spotify.get_auth()"
   ]
  },
  {
   "cell_type": "code",
   "execution_count": null,
   "id": "793c0b92",
   "metadata": {},
   "outputs": [],
   "source": [
    "access_token = spotify.access_token\n"
   ]
  },
  {
   "cell_type": "code",
   "execution_count": null,
   "id": "635209fa",
   "metadata": {},
   "outputs": [],
   "source": []
  }
 ],
 "metadata": {
  "kernelspec": {
   "display_name": "Python 3 (ipykernel)",
   "language": "python",
   "name": "python3"
  },
  "language_info": {
   "codemirror_mode": {
    "name": "ipython",
    "version": 3
   },
   "file_extension": ".py",
   "mimetype": "text/x-python",
   "name": "python",
   "nbconvert_exporter": "python",
   "pygments_lexer": "ipython3",
   "version": "3.10.1"
  }
 },
 "nbformat": 4,
 "nbformat_minor": 5
}
