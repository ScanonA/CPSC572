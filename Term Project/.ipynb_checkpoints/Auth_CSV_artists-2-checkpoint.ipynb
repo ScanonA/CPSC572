{
 "cells": [
  {
   "cell_type": "code",
   "execution_count": null,
   "id": "fe5626b9",
   "metadata": {},
   "outputs": [],
   "source": [
    "#import libraries\n",
    "import base64\n",
    "import csv\n",
    "import requests #pip install requests\n",
    "import datetime\n",
    "from urllib.parse import urlencode"
   ]
  },
  {
   "cell_type": "code",
   "execution_count": null,
   "id": "8025e33d",
   "metadata": {},
   "outputs": [],
   "source": [
    "#setting up variables\n",
    "client_id = '5aedd1d0682f46618896dcea6108e3b4'\n",
    "# client_id = '38b14309a0ff483c916d7cb978dc3dd3'\n",
    "\n",
    "client_secret = 'e3c2c283017d452a93ddc951053196d2'\n",
    "# client_secret = '0b9ec7ff5b52480dbbe7b0649b9deb33'\n",
    "access_token = None"
   ]
  },
  {
   "cell_type": "code",
   "execution_count": null,
   "id": "635209fa",
   "metadata": {},
   "outputs": [],
   "source": [
    "class ReadArtists():\n",
    "    #reading all the artist from this list. all artist names will be held here\n",
    "    def getList_old():\n",
    "        file = open(\"artists.txt\",\"r\")\n",
    "        raw_list = file.read()\n",
    "        artist_list = raw_list.split(\";\")\n",
    "        file.close()\n",
    "        return artist_list  \n",
    "    \n",
    "    def getList():\n",
    "        artist_list = []\n",
    "        # with open(\"artist_list10.csv\", \"r\", encoding=\"utf-8\") as a_file:\n",
    "        with open(\"artist_list10.csv\") as a_file:\n",
    "            reader = csv.reader(a_file)\n",
    "            count = 0\n",
    "            for row in reader:\n",
    "                artist_list.append(row[0])\n",
    "                #print(row[0])\n",
    "            #print(artist_list)\n",
    "            a_file.close()\n",
    "        return artist_list"
   ]
  },
  {
   "cell_type": "code",
   "execution_count": null,
   "id": "346fcc81",
   "metadata": {},
   "outputs": [],
   "source": [
    "#https://www.youtube.com/watch?v=xdq6Gz33khQ&t=1318s\n",
    "#code derived from link above\n",
    "class SpotifyAPI():\n",
    "    access_token = None\n",
    "    access_token_expires = None\n",
    "    access_token_hasExpired = True\n",
    "    c_id = None\n",
    "    c_secret = None\n",
    "    token_url = \"https://accounts.spotify.com/api/token\"\n",
    "    \n",
    "    def __init__(self, client_id, client_secret):\n",
    "        self.client_id = client_id\n",
    "        self.client_secret = client_secret\n",
    "\n",
    "    def encode_credentials (self):\n",
    "        id = self.client_id\n",
    "        secret = self.client_secret\n",
    "        if secret == None or id == None:\n",
    "            raise Exception(\"client id or secret is not set\")\n",
    "        client_creds = f\"{id}:{secret}\"\n",
    "        client_creds_b64 = base64.b64encode(client_creds.encode())\n",
    "        return client_creds_b64.decode()\n",
    "    \n",
    "    def token_headers(self):\n",
    "        c64_credentials = self.encode_credentials()\n",
    "        return {\n",
    "            \"Authorization\": f\"Basic {c64_credentials}\"\n",
    "        }\n",
    "    \n",
    "    def token_data(self):\n",
    "        return {\n",
    "            \"grant_type\": \"client_credentials\"\n",
    "        }\n",
    "    \n",
    "    def get_auth(self):\n",
    "        r= requests.post(self.token_url, data=self.token_data(), headers=self.token_headers())\n",
    "        if r.status_code in range(200,299):\n",
    "            now = datetime.datetime.now()\n",
    "            self.access_token = r.json()['access_token']\n",
    "            expires = now + datetime.timedelta(seconds=r.json()['expires_in'])\n",
    "            self.access_token_expires = expires\n",
    "            self.access_token_hasExpired = expires < now\n",
    "            print(\"success\")\n",
    "        print(r.status_code)"
   ]
  },
  {
   "cell_type": "code",
   "execution_count": null,
   "id": "6d83a370",
   "metadata": {},
   "outputs": [],
   "source": [
    "class SpotifyQuery():\n",
    "    headers = None\n",
    "    artist_lookup = None\n",
    "    endpoint_url = \"https://api.spotify.com/v1/\"\n",
    "    endpoint_type = None\n",
    "    enpoint_limit = None\n",
    "    endpoint = None\n",
    "    offset_count = 0\n",
    "    artist_row = []\n",
    "    total_songs = 0\n",
    "    \n",
    "    def __init__(self, access_token):\n",
    "        self.headers = {\n",
    "                \"Authorization\": f\"Bearer {access_token}\"\n",
    "        }\n",
    "        \n",
    "    def get_request(self, endpoint_query):\n",
    "        self.endpoint = self.endpoint_url+self.endpoint_type+endpoint_query\n",
    "        #print(self.endpoint)\n",
    "        return requests.get(self.endpoint, headers = self.headers)\n",
    "    \n",
    "    \n",
    "    def get_artistid(self):\n",
    "        artist_list = ReadArtists.getList()\n",
    "        self.endpoint_type = \"search?\"\n",
    "        self.endpoint_limit = 1\n",
    "        for i in artist_list:\n",
    "            col = []\n",
    "            artist_lookup = i\n",
    "            endpoint_query = urlencode({\"q\": artist_lookup,\"type\": \"artist\", \"limit\": self.endpoint_limit})\n",
    "            #self.endpoint = self.endpoint_url+self.endpoint_type+endpoint_query\n",
    "            #r = requests.get(self.endpoint, headers = self.headers)\n",
    "            r = self.get_request(endpoint_query)\n",
    "            #print(r.status_code)\n",
    "            items = r.json()['artists']['items'][0]\n",
    "            col.append(items['name'])\n",
    "            col.append(items['id'])\n",
    "            self.artist_row.append(col)\n",
    "            #print(items)\\\n",
    "            \n",
    "    def calc_off(self):\n",
    "        if self.offset_count > 0:\n",
    "            offset = self.endpoint_limit*self.offset_count-1\n",
    "        else:\n",
    "            offset = 0\n",
    "        self.offset_count += 1\n",
    "        return offset \n",
    "    \n",
    "    def get_song_data(self, artist_list, artist_id, isAlbum):\n",
    "        offset = self.calc_off() \n",
    "        if(offset<self.total_songs or offset==0):\n",
    "            if isAlbum:\n",
    "                endpoint_query = urlencode({\"include_groups\": \"single,appears_on\", \"limit\": self.endpoint_limit, \"offset\": offset})\n",
    "            else:\n",
    "                endpoint_query = urlencode({\"limit\": self.endpoint_limit, \"offset\": offset})\n",
    "            r = self.get_request(endpoint_query)\n",
    "            #print(r.status_code)\n",
    "            try:\n",
    "                items = r.json()['items']\n",
    "                self.total_songs = r.json()['total']\n",
    "            except:\n",
    "                print(r.json())\n",
    "            #items = r.json()['items']\n",
    "            for item in items:\n",
    "                list_col = []\n",
    "                artists = item['artists']\n",
    "                if len(artists) > 1:\n",
    "                    list_col.append(item['name'])\n",
    "                    list_col.append(item['id'])\n",
    "                    for artist in artists:  \n",
    "                        list_col.append(artist['name'])\n",
    "                        list_col.append(artist['id'])\n",
    "                    list_col.append(artist_id)\n",
    "                    artist_list.append(list_col)\n",
    "            if len(items) == 50:\n",
    "                #print(\"offset: \"+ str(self.offset_count) + \" items: \" + str(len(items)))\n",
    "                self.get_song_data(artist_list, artist_id ,isAlbum)\n",
    "    \n",
    "    def get_albums_data(self, album_list, artist_id):\n",
    "        offset = self.calc_off()\n",
    "        if(offset<self.total_songs or offset==0):\n",
    "            endpoint_query = urlencode({\"limit\": self.endpoint_limit, \"offset\": offset})\n",
    "            r = self.get_request(endpoint_query)\n",
    "            #print(r.status_code)\n",
    "            try:\n",
    "                items = r.json()['items']\n",
    "                self.total_songs = r.json()['total']\n",
    "            except:\n",
    "                print(r.json())\n",
    "                print(\"heeeeerererererer\")\n",
    "            #items = r.json()['items']\n",
    "            for item in items:\n",
    "                list_col = []\n",
    "                artists = item['artists']\n",
    "                if item['album_group'] == \"album\":\n",
    "                    list_col.append(item['name'])\n",
    "                    list_col.append(item['id'])\n",
    "                    list_col.append(artist_id)\n",
    "                    album_list.append(list_col) \n",
    "            if len(items) == 50:\n",
    "                #print(\"offset: \"+ str(self.offset_count) + \" items: \" + str(len(items)))\n",
    "                self.get_albums_data(album_list, artist_id)\n",
    "    \n",
    "    def get_albums(self):\n",
    "        self.endpoint_limit = 50\n",
    "        artist_list = []\n",
    "        album_list = []\n",
    "        for i in self.artist_row:\n",
    "            self.offset_count = 0\n",
    "            print(i[0])\n",
    "            artist_id = i[1]\n",
    "            self.endpoint_type = \"artists/\"+artist_id+\"/albums?\"\n",
    "            self.get_song_data(artist_list, artist_id, True)\n",
    "            self.offset_count = 0\n",
    "            self.get_albums_data(album_list, artist_id)    \n",
    "        lists_ret = dict()\n",
    "        lists_ret['artists_link'] = artist_list\n",
    "        lists_ret['all_albums'] = album_list\n",
    "        return(lists_ret)\n",
    "    \n",
    "    def get_songs(self, lists_ret):\n",
    "        self.endpoint_limit = 50\n",
    "        artist_list = lists_ret['artists_link']\n",
    "        album_list = lists_ret['all_albums']\n",
    "        for album in album_list:\n",
    "            self.offset_count = 0\n",
    "            album_id = album[1]\n",
    "            artist_id = album[len(album)-1]\n",
    "            self.endpoint_type = \"albums/\"+album_id+\"/tracks?\"\n",
    "            self.get_song_data(artist_list, artist_id, False)\n",
    "        return artist_list\n",
    "    "
   ]
  },
  {
   "cell_type": "code",
   "execution_count": null,
   "id": "793c0b92",
   "metadata": {},
   "outputs": [
    {
     "name": "stdout",
     "output_type": "stream",
     "text": [
      "success\n",
      "200\n"
     ]
    }
   ],
   "source": [
    "spotify = SpotifyAPI(client_id, client_secret)\n",
    "spotify.get_auth()\n",
    "access_token = spotify.access_token\n",
    "query = SpotifyQuery(access_token)"
   ]
  },
  {
   "cell_type": "code",
   "execution_count": null,
   "id": "5b702c7d",
   "metadata": {},
   "outputs": [],
   "source": [
    "query.get_artistid()"
   ]
  },
  {
   "cell_type": "code",
   "execution_count": null,
   "id": "16878e4a",
   "metadata": {},
   "outputs": [
    {
     "name": "stdout",
     "output_type": "stream",
     "text": [
      "[['Arcangel', '4SsVbpTthjScTS7U2hmr1X'], ['6LACK', '4IVAbR2w4JJNJDDRFP3E83'], ['Avril Lavigne', '0p4nmQO2msCgU4IF37Wi3j'], ['Bring Me The Horizon', '1Ffb6ejR6Fe5IamqA5oRUF'], ['Kevin Gates', '1gPhS1zisyXr5dHTYZyiMe'], ['Jonas Brothers', '7gOdHgIoIKoe4i9Tta6qdD'], ['Glee Cast', '0SCbttzoZTnLFebDYmAWCm'], ['Niall Horan', '1Hsdzj7Dlq2I7tHP7501T4'], ['Bryson Tiller', '2EMAnMvWE2eb56ToJVfCWs'], ['Vance Joy', '10exVja0key0uqUkk6LJRT'], ['Alejandro Fernández', '6sq1yF0OZEWA4xoXVKW1L9'], ['Macklemore & Ryan Lewis', '5BcAKTbp20cv7tC5VqPFoC'], ['Lil Durk', '3hcs9uc56yIGFCSy9leWe7'], ['Natti Natasha', '1GDbiv3spRmZ1XdM1jQbT7'], ['Wisin & Yandel', '1wZtkThiXbVNtj6hee6dz9'], ['Aerosmith', '7Ey4PD4MYsKc5I2dolUwbH'], ['Kelly Clarkson', '3BmGtnKgCSGYIUhmivXKWX'], ['Hans Zimmer', '0YC192cP3KPCRWx8zr8MfZ'], ['Jack Harlow', '2LIk90788K0zvyj2JJVwkJ'], ['Stevie Wonder', '7guDJrEfX3qb6FEbdPA5qi'], ['Manuel Turizo', '0tmwSHipWxN12fsoLcFU3B'], ['Jennifer Lopez', '2DlGxzQSjYe5N6G9nkYghR'], ['Lenny Tavárez', '1pQWsZQehhS4wavwh7Fnxd'], ['Kehlani', '0cGUm45nv7Z6M6qdXYQGTX'], ['ROSALÍA', '7ltDVBr6mKbRvohxheJ9h1'], ['Ryan Lewis', '4myTppRgh0rojLxx8RycOp'], ['Thomas Rhett', '6x2LnllRG5uGarZMsD4iO8'], ['Capital Bra', '4WZGDpNwrC0vNQyl9QzF7d'], ['Pearl Jam', '1w5Kfo2jwwIPruYS2UWh56'], ['Johnny Cash', '6kACVPfCOnqzgfEF5ryl0x']]\n"
     ]
    }
   ],
   "source": [
    "print(query.artist_row)"
   ]
  },
  {
   "cell_type": "code",
   "execution_count": null,
   "id": "8e895f50",
   "metadata": {},
   "outputs": [
    {
     "name": "stdout",
     "output_type": "stream",
     "text": [
      "Arcangel\n"
     ]
    },
    {
     "ename": "JSONDecodeError",
     "evalue": "Expecting value: line 1 column 1 (char 0)",
     "output_type": "error",
     "traceback": [
      "\u001b[0;31m---------------------------------------------------------------------------\u001b[0m",
      "\u001b[0;31mJSONDecodeError\u001b[0m                           Traceback (most recent call last)",
      "\u001b[0;32m<ipython-input-9-aabd571529e0>\u001b[0m in \u001b[0;36m<module>\u001b[0;34m\u001b[0m\n\u001b[0;32m----> 1\u001b[0;31m \u001b[0mdictionary\u001b[0m \u001b[0;34m=\u001b[0m \u001b[0mquery\u001b[0m\u001b[0;34m.\u001b[0m\u001b[0mget_albums\u001b[0m\u001b[0;34m(\u001b[0m\u001b[0;34m)\u001b[0m\u001b[0;34m\u001b[0m\u001b[0;34m\u001b[0m\u001b[0m\n\u001b[0m",
      "\u001b[0;32m<ipython-input-5-e34c80dedbd5>\u001b[0m in \u001b[0;36mget_albums\u001b[0;34m(self)\u001b[0m\n\u001b[1;32m    111\u001b[0m             \u001b[0martist_id\u001b[0m \u001b[0;34m=\u001b[0m \u001b[0mi\u001b[0m\u001b[0;34m[\u001b[0m\u001b[0;36m1\u001b[0m\u001b[0;34m]\u001b[0m\u001b[0;34m\u001b[0m\u001b[0;34m\u001b[0m\u001b[0m\n\u001b[1;32m    112\u001b[0m             \u001b[0mself\u001b[0m\u001b[0;34m.\u001b[0m\u001b[0mendpoint_type\u001b[0m \u001b[0;34m=\u001b[0m \u001b[0;34m\"artists/\"\u001b[0m\u001b[0;34m+\u001b[0m\u001b[0martist_id\u001b[0m\u001b[0;34m+\u001b[0m\u001b[0;34m\"/albums?\"\u001b[0m\u001b[0;34m\u001b[0m\u001b[0;34m\u001b[0m\u001b[0m\n\u001b[0;32m--> 113\u001b[0;31m             \u001b[0mself\u001b[0m\u001b[0;34m.\u001b[0m\u001b[0mget_song_data\u001b[0m\u001b[0;34m(\u001b[0m\u001b[0martist_list\u001b[0m\u001b[0;34m,\u001b[0m \u001b[0martist_id\u001b[0m\u001b[0;34m,\u001b[0m \u001b[0;32mTrue\u001b[0m\u001b[0;34m)\u001b[0m\u001b[0;34m\u001b[0m\u001b[0;34m\u001b[0m\u001b[0m\n\u001b[0m\u001b[1;32m    114\u001b[0m             \u001b[0mself\u001b[0m\u001b[0;34m.\u001b[0m\u001b[0moffset_count\u001b[0m \u001b[0;34m=\u001b[0m \u001b[0;36m0\u001b[0m\u001b[0;34m\u001b[0m\u001b[0;34m\u001b[0m\u001b[0m\n\u001b[1;32m    115\u001b[0m             \u001b[0mself\u001b[0m\u001b[0;34m.\u001b[0m\u001b[0mget_albums_data\u001b[0m\u001b[0;34m(\u001b[0m\u001b[0malbum_list\u001b[0m\u001b[0;34m,\u001b[0m \u001b[0martist_id\u001b[0m\u001b[0;34m)\u001b[0m\u001b[0;34m\u001b[0m\u001b[0;34m\u001b[0m\u001b[0m\n",
      "\u001b[0;32m<ipython-input-5-e34c80dedbd5>\u001b[0m in \u001b[0;36mget_song_data\u001b[0;34m(self, artist_list, artist_id, isAlbum)\u001b[0m\n\u001b[1;32m     60\u001b[0m                 \u001b[0mself\u001b[0m\u001b[0;34m.\u001b[0m\u001b[0mtotal_songs\u001b[0m \u001b[0;34m=\u001b[0m \u001b[0mr\u001b[0m\u001b[0;34m.\u001b[0m\u001b[0mjson\u001b[0m\u001b[0;34m(\u001b[0m\u001b[0;34m)\u001b[0m\u001b[0;34m[\u001b[0m\u001b[0;34m'total'\u001b[0m\u001b[0;34m]\u001b[0m\u001b[0;34m\u001b[0m\u001b[0;34m\u001b[0m\u001b[0m\n\u001b[1;32m     61\u001b[0m             \u001b[0;32mexcept\u001b[0m\u001b[0;34m:\u001b[0m\u001b[0;34m\u001b[0m\u001b[0;34m\u001b[0m\u001b[0m\n\u001b[0;32m---> 62\u001b[0;31m                 \u001b[0mprint\u001b[0m\u001b[0;34m(\u001b[0m\u001b[0mr\u001b[0m\u001b[0;34m.\u001b[0m\u001b[0mjson\u001b[0m\u001b[0;34m(\u001b[0m\u001b[0;34m)\u001b[0m\u001b[0;34m)\u001b[0m\u001b[0;34m\u001b[0m\u001b[0;34m\u001b[0m\u001b[0m\n\u001b[0m\u001b[1;32m     63\u001b[0m             \u001b[0;31m#items = r.json()['items']\u001b[0m\u001b[0;34m\u001b[0m\u001b[0;34m\u001b[0m\u001b[0;34m\u001b[0m\u001b[0m\n\u001b[1;32m     64\u001b[0m             \u001b[0;32mfor\u001b[0m \u001b[0mitem\u001b[0m \u001b[0;32min\u001b[0m \u001b[0mitems\u001b[0m\u001b[0;34m:\u001b[0m\u001b[0;34m\u001b[0m\u001b[0;34m\u001b[0m\u001b[0m\n",
      "\u001b[0;32m~/opt/anaconda3/lib/python3.8/site-packages/requests/models.py\u001b[0m in \u001b[0;36mjson\u001b[0;34m(self, **kwargs)\u001b[0m\n\u001b[1;32m    889\u001b[0m             \u001b[0;32mif\u001b[0m \u001b[0mencoding\u001b[0m \u001b[0;32mis\u001b[0m \u001b[0;32mnot\u001b[0m \u001b[0;32mNone\u001b[0m\u001b[0;34m:\u001b[0m\u001b[0;34m\u001b[0m\u001b[0;34m\u001b[0m\u001b[0m\n\u001b[1;32m    890\u001b[0m                 \u001b[0;32mtry\u001b[0m\u001b[0;34m:\u001b[0m\u001b[0;34m\u001b[0m\u001b[0;34m\u001b[0m\u001b[0m\n\u001b[0;32m--> 891\u001b[0;31m                     return complexjson.loads(\n\u001b[0m\u001b[1;32m    892\u001b[0m                         \u001b[0mself\u001b[0m\u001b[0;34m.\u001b[0m\u001b[0mcontent\u001b[0m\u001b[0;34m.\u001b[0m\u001b[0mdecode\u001b[0m\u001b[0;34m(\u001b[0m\u001b[0mencoding\u001b[0m\u001b[0;34m)\u001b[0m\u001b[0;34m,\u001b[0m \u001b[0;34m**\u001b[0m\u001b[0mkwargs\u001b[0m\u001b[0;34m\u001b[0m\u001b[0;34m\u001b[0m\u001b[0m\n\u001b[1;32m    893\u001b[0m                     )\n",
      "\u001b[0;32m~/opt/anaconda3/lib/python3.8/json/__init__.py\u001b[0m in \u001b[0;36mloads\u001b[0;34m(s, cls, object_hook, parse_float, parse_int, parse_constant, object_pairs_hook, **kw)\u001b[0m\n\u001b[1;32m    355\u001b[0m             \u001b[0mparse_int\u001b[0m \u001b[0;32mis\u001b[0m \u001b[0;32mNone\u001b[0m \u001b[0;32mand\u001b[0m \u001b[0mparse_float\u001b[0m \u001b[0;32mis\u001b[0m \u001b[0;32mNone\u001b[0m \u001b[0;32mand\u001b[0m\u001b[0;34m\u001b[0m\u001b[0;34m\u001b[0m\u001b[0m\n\u001b[1;32m    356\u001b[0m             parse_constant is None and object_pairs_hook is None and not kw):\n\u001b[0;32m--> 357\u001b[0;31m         \u001b[0;32mreturn\u001b[0m \u001b[0m_default_decoder\u001b[0m\u001b[0;34m.\u001b[0m\u001b[0mdecode\u001b[0m\u001b[0;34m(\u001b[0m\u001b[0ms\u001b[0m\u001b[0;34m)\u001b[0m\u001b[0;34m\u001b[0m\u001b[0;34m\u001b[0m\u001b[0m\n\u001b[0m\u001b[1;32m    358\u001b[0m     \u001b[0;32mif\u001b[0m \u001b[0mcls\u001b[0m \u001b[0;32mis\u001b[0m \u001b[0;32mNone\u001b[0m\u001b[0;34m:\u001b[0m\u001b[0;34m\u001b[0m\u001b[0;34m\u001b[0m\u001b[0m\n\u001b[1;32m    359\u001b[0m         \u001b[0mcls\u001b[0m \u001b[0;34m=\u001b[0m \u001b[0mJSONDecoder\u001b[0m\u001b[0;34m\u001b[0m\u001b[0;34m\u001b[0m\u001b[0m\n",
      "\u001b[0;32m~/opt/anaconda3/lib/python3.8/json/decoder.py\u001b[0m in \u001b[0;36mdecode\u001b[0;34m(self, s, _w)\u001b[0m\n\u001b[1;32m    335\u001b[0m \u001b[0;34m\u001b[0m\u001b[0m\n\u001b[1;32m    336\u001b[0m         \"\"\"\n\u001b[0;32m--> 337\u001b[0;31m         \u001b[0mobj\u001b[0m\u001b[0;34m,\u001b[0m \u001b[0mend\u001b[0m \u001b[0;34m=\u001b[0m \u001b[0mself\u001b[0m\u001b[0;34m.\u001b[0m\u001b[0mraw_decode\u001b[0m\u001b[0;34m(\u001b[0m\u001b[0ms\u001b[0m\u001b[0;34m,\u001b[0m \u001b[0midx\u001b[0m\u001b[0;34m=\u001b[0m\u001b[0m_w\u001b[0m\u001b[0;34m(\u001b[0m\u001b[0ms\u001b[0m\u001b[0;34m,\u001b[0m \u001b[0;36m0\u001b[0m\u001b[0;34m)\u001b[0m\u001b[0;34m.\u001b[0m\u001b[0mend\u001b[0m\u001b[0;34m(\u001b[0m\u001b[0;34m)\u001b[0m\u001b[0;34m)\u001b[0m\u001b[0;34m\u001b[0m\u001b[0;34m\u001b[0m\u001b[0m\n\u001b[0m\u001b[1;32m    338\u001b[0m         \u001b[0mend\u001b[0m \u001b[0;34m=\u001b[0m \u001b[0m_w\u001b[0m\u001b[0;34m(\u001b[0m\u001b[0ms\u001b[0m\u001b[0;34m,\u001b[0m \u001b[0mend\u001b[0m\u001b[0;34m)\u001b[0m\u001b[0;34m.\u001b[0m\u001b[0mend\u001b[0m\u001b[0;34m(\u001b[0m\u001b[0;34m)\u001b[0m\u001b[0;34m\u001b[0m\u001b[0;34m\u001b[0m\u001b[0m\n\u001b[1;32m    339\u001b[0m         \u001b[0;32mif\u001b[0m \u001b[0mend\u001b[0m \u001b[0;34m!=\u001b[0m \u001b[0mlen\u001b[0m\u001b[0;34m(\u001b[0m\u001b[0ms\u001b[0m\u001b[0;34m)\u001b[0m\u001b[0;34m:\u001b[0m\u001b[0;34m\u001b[0m\u001b[0;34m\u001b[0m\u001b[0m\n",
      "\u001b[0;32m~/opt/anaconda3/lib/python3.8/json/decoder.py\u001b[0m in \u001b[0;36mraw_decode\u001b[0;34m(self, s, idx)\u001b[0m\n\u001b[1;32m    353\u001b[0m             \u001b[0mobj\u001b[0m\u001b[0;34m,\u001b[0m \u001b[0mend\u001b[0m \u001b[0;34m=\u001b[0m \u001b[0mself\u001b[0m\u001b[0;34m.\u001b[0m\u001b[0mscan_once\u001b[0m\u001b[0;34m(\u001b[0m\u001b[0ms\u001b[0m\u001b[0;34m,\u001b[0m \u001b[0midx\u001b[0m\u001b[0;34m)\u001b[0m\u001b[0;34m\u001b[0m\u001b[0;34m\u001b[0m\u001b[0m\n\u001b[1;32m    354\u001b[0m         \u001b[0;32mexcept\u001b[0m \u001b[0mStopIteration\u001b[0m \u001b[0;32mas\u001b[0m \u001b[0merr\u001b[0m\u001b[0;34m:\u001b[0m\u001b[0;34m\u001b[0m\u001b[0;34m\u001b[0m\u001b[0m\n\u001b[0;32m--> 355\u001b[0;31m             \u001b[0;32mraise\u001b[0m \u001b[0mJSONDecodeError\u001b[0m\u001b[0;34m(\u001b[0m\u001b[0;34m\"Expecting value\"\u001b[0m\u001b[0;34m,\u001b[0m \u001b[0ms\u001b[0m\u001b[0;34m,\u001b[0m \u001b[0merr\u001b[0m\u001b[0;34m.\u001b[0m\u001b[0mvalue\u001b[0m\u001b[0;34m)\u001b[0m \u001b[0;32mfrom\u001b[0m \u001b[0;32mNone\u001b[0m\u001b[0;34m\u001b[0m\u001b[0;34m\u001b[0m\u001b[0m\n\u001b[0m\u001b[1;32m    356\u001b[0m         \u001b[0;32mreturn\u001b[0m \u001b[0mobj\u001b[0m\u001b[0;34m,\u001b[0m \u001b[0mend\u001b[0m\u001b[0;34m\u001b[0m\u001b[0;34m\u001b[0m\u001b[0m\n",
      "\u001b[0;31mJSONDecodeError\u001b[0m: Expecting value: line 1 column 1 (char 0)"
     ]
    }
   ],
   "source": [
    "dictionary = query.get_albums()"
   ]
  },
  {
   "cell_type": "code",
   "execution_count": null,
   "id": "35e27b4c",
   "metadata": {},
   "outputs": [],
   "source": [
    "query.offset_count"
   ]
  },
  {
   "cell_type": "code",
   "execution_count": null,
   "id": "0588774b",
   "metadata": {},
   "outputs": [],
   "source": [
    "print(dictionary)"
   ]
  },
  {
   "cell_type": "code",
   "execution_count": null,
   "id": "6c96ad88",
   "metadata": {},
   "outputs": [],
   "source": [
    "print(dictionary['all_albums'])"
   ]
  },
  {
   "cell_type": "code",
   "execution_count": null,
   "id": "bb9316ac",
   "metadata": {},
   "outputs": [],
   "source": [
    "songList = query.get_songs(dictionary)"
   ]
  },
  {
   "cell_type": "code",
   "execution_count": null,
   "id": "bfc74dcd",
   "metadata": {},
   "outputs": [],
   "source": [
    "print(songList)"
   ]
  },
  {
   "cell_type": "code",
   "execution_count": null,
   "id": "5d288a94",
   "metadata": {},
   "outputs": [],
   "source": [
    "artist_songs = dict()\n",
    "\n",
    "for a in query.artist_row:\n",
    "    artist_songs[a[1]] = [a[0]]\n",
    "    \n",
    "print(artist_songs)"
   ]
  },
  {
   "cell_type": "code",
   "execution_count": null,
   "id": "9cde025e",
   "metadata": {},
   "outputs": [],
   "source": [
    "for song in songList:\n",
    "    index = len(song)-1\n",
    "    artist_songs[song[index]].append(song)\n",
    "print(artist_songs)"
   ]
  },
  {
   "cell_type": "code",
   "execution_count": null,
   "id": "170559ce-0bb1-49e0-bb95-05572b79013d",
   "metadata": {},
   "outputs": [],
   "source": []
  },
  {
   "cell_type": "code",
   "execution_count": null,
   "id": "d1ec3b38",
   "metadata": {},
   "outputs": [],
   "source": []
  },
  {
   "cell_type": "code",
   "execution_count": null,
   "id": "b8448c72",
   "metadata": {},
   "outputs": [],
   "source": [
    "\"\"\"\n",
    "all songs are organized in a dictionary under the artist id as a key.\n",
    "added the artist id to the end of the song list. \n",
    "then using the artist list i made a dictionary.\n",
    "populated the dictionary using the artist id at the end of the song list.\n",
    "\n",
    "access data by iterating or looking up a key.\n",
    "\"\"\""
   ]
  },
  {
   "cell_type": "code",
   "execution_count": null,
   "id": "65d52eec",
   "metadata": {},
   "outputs": [],
   "source": [
    "#songList = query.get_songs(dictionary)\n",
    "cleanSongList = [];\n",
    "found = False\n",
    "\n",
    "for i in range(0, len(songList)):\n",
    "    for j in range(0, len(cleanSongList)):\n",
    "        if songList[i][0] == cleanSongList[j][0]:\n",
    "            found = True\n",
    "            break\n",
    "    if not found:\n",
    "        cleanSongList.append(songList[i])\n",
    "    found = False\n",
    "for song in cleanSongList:\n",
    "    print(song)\n",
    "    print(\"\\n\")"
   ]
  },
  {
   "cell_type": "code",
   "execution_count": null,
   "id": "9f4ba41b",
   "metadata": {},
   "outputs": [],
   "source": [
    "import csv\n",
    "\n",
    "#create edge list\n",
    "\n",
    "edgelist = [[\"Target\", \"Source\"]]\n",
    "#Assumes max of 3 artists per song\n",
    "for song in cleanSongList:\n",
    "    size = len(song)\n",
    "    if size == 5:\n",
    "        continue\n",
    "    elif size == 7:\n",
    "        edgelist.append([song[3],song[5]])\n",
    "    elif size == 9:\n",
    "        edgelist.append([song[3],song[5]])\n",
    "        edgelist.append([song[3],song[7]])\n",
    "        edgelist.append([song[5],song[7]])\n",
    "\n",
    "with open('edgelist10.csv', 'w') as f:\n",
    "    write = csv.writer(f)\n",
    "    write.writerows(edgelist)\n",
    "\n",
    "\n",
    "# with open('songlist.csv', 'w') as f:\n",
    "#     write = csv.writer(f)\n",
    "#     write.writerows(cleanSongList)"
   ]
  },
  {
   "cell_type": "code",
   "execution_count": null,
   "id": "bcced62e-0219-4260-a617-00dc8a459ca4",
   "metadata": {},
   "outputs": [],
   "source": []
  },
  {
   "cell_type": "code",
   "execution_count": null,
   "id": "483798bd-e188-4731-8bf9-30895b6c2115",
   "metadata": {},
   "outputs": [],
   "source": []
  }
 ],
 "metadata": {
  "kernelspec": {
   "display_name": "Python 3",
   "language": "python",
   "name": "python3"
  }
 },
 "nbformat": 4,
 "nbformat_minor": 5
}
