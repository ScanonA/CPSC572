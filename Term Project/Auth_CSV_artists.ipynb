{
 "cells": [
  {
   "cell_type": "code",
   "execution_count": 1,
   "id": "fe5626b9",
   "metadata": {},
   "outputs": [],
   "source": [
    "#import libraries\n",
    "import base64\n",
    "import csv\n",
    "import requests #pip install requests\n",
    "import datetime\n",
    "from urllib.parse import urlencode"
   ]
  },
  {
   "cell_type": "code",
   "execution_count": 2,
   "id": "8025e33d",
   "metadata": {},
   "outputs": [],
   "source": [
    "#setting up variables\n",
    "client_id = '5aedd1d0682f46618896dcea6108e3b4'\n",
    "client_secret = 'e3c2c283017d452a93ddc951053196d2'\n",
    "access_token = None"
   ]
  },
  {
   "cell_type": "code",
   "execution_count": 3,
   "id": "635209fa",
   "metadata": {},
   "outputs": [],
   "source": [
    "class ReadArtists():\n",
    "    #reading all the artist from this list. all artist names will be held here\n",
    "    def getList_old():\n",
    "        file = open(\"artists.txt\",\"r\")\n",
    "        raw_list = file.read()\n",
    "        artist_list = raw_list.split(\";\")\n",
    "        file.close()\n",
    "        return artist_list  \n",
    "    \n",
    "    def getList():\n",
    "        artist_list = []\n",
    "        with open(\"artist_list_sample.csv\") as a_file:\n",
    "            reader = csv.reader(a_file)\n",
    "            count = 0\n",
    "            for row in reader:\n",
    "                artist_list.append(row[0])\n",
    "                #print(row[0])\n",
    "            #print(artist_list)\n",
    "            a_file.close()\n",
    "        return artist_list"
   ]
  },
  {
   "cell_type": "code",
   "execution_count": 4,
   "id": "346fcc81",
   "metadata": {},
   "outputs": [],
   "source": [
    "#https://www.youtube.com/watch?v=xdq6Gz33khQ&t=1318s\n",
    "#code derived from link above\n",
    "class SpotifyAPI():\n",
    "    access_token = None\n",
    "    access_token_expires = None\n",
    "    access_token_hasExpired = True\n",
    "    c_id = None\n",
    "    c_secret = None\n",
    "    token_url = \"https://accounts.spotify.com/api/token\"\n",
    "    \n",
    "    def __init__(self, client_id, client_secret):\n",
    "        self.client_id = client_id\n",
    "        self.client_secret = client_secret\n",
    "\n",
    "    def encode_credentials (self):\n",
    "        id = self.client_id\n",
    "        secret = self.client_secret\n",
    "        if secret == None or id == None:\n",
    "            raise Exception(\"client id or secret is not set\")\n",
    "        client_creds = f\"{id}:{secret}\"\n",
    "        client_creds_b64 = base64.b64encode(client_creds.encode())\n",
    "        return client_creds_b64.decode()\n",
    "    \n",
    "    def token_headers(self):\n",
    "        c64_credentials = self.encode_credentials()\n",
    "        return {\n",
    "            \"Authorization\": f\"Basic {c64_credentials}\"\n",
    "        }\n",
    "    \n",
    "    def token_data(self):\n",
    "        return {\n",
    "            \"grant_type\": \"client_credentials\"\n",
    "        }\n",
    "    \n",
    "    def get_auth(self):\n",
    "        r= requests.post(self.token_url, data=self.token_data(), headers=self.token_headers())\n",
    "        if r.status_code in range(200,299):\n",
    "            now = datetime.datetime.now()\n",
    "            self.access_token = r.json()['access_token']\n",
    "            expires = now + datetime.timedelta(seconds=r.json()['expires_in'])\n",
    "            self.access_token_expires = expires\n",
    "            self.access_token_hasExpired = expires < now\n",
    "            print(\"success\")\n",
    "        print(r.status_code)"
   ]
  },
  {
   "cell_type": "code",
   "execution_count": 5,
   "id": "6d83a370",
   "metadata": {},
   "outputs": [],
   "source": [
    "class SpotifyQuery():\n",
    "    headers = None\n",
    "    artist_lookup = None\n",
    "    endpoint_url = \"https://api.spotify.com/v1/\"\n",
    "    endpoint_type = None\n",
    "    enpoint_limit = None\n",
    "    endpoint = None\n",
    "    offset_count = 0\n",
    "    artist_row = []\n",
    "    \n",
    "    def __init__(self, access_token):\n",
    "        self.headers = {\n",
    "                \"Authorization\": f\"Bearer {access_token}\"\n",
    "        }\n",
    "        \n",
    "    def get_request(self, endpoint_query):\n",
    "        self.endpoint = self.endpoint_url+self.endpoint_type+endpoint_query\n",
    "        #print(self.endpoint)\n",
    "        return requests.get(self.endpoint, headers = self.headers)\n",
    "    \n",
    "    \n",
    "    def get_artistid(self):\n",
    "        artist_list = ReadArtists.getList()\n",
    "        self.endpoint_type = \"search?\"\n",
    "        self.endpoint_limit = 1\n",
    "        for i in artist_list:\n",
    "            col = []\n",
    "            artist_lookup = i\n",
    "            endpoint_query = urlencode({\"q\": artist_lookup,\"type\": \"artist\", \"limit\": self.endpoint_limit})\n",
    "            #self.endpoint = self.endpoint_url+self.endpoint_type+endpoint_query\n",
    "            #r = requests.get(self.endpoint, headers = self.headers)\n",
    "            r = self.get_request(endpoint_query)\n",
    "            #print(r.status_code)\n",
    "            items = r.json()['artists']['items'][0]\n",
    "            col.append(items['name'])\n",
    "            col.append(items['id'])\n",
    "            self.artist_row.append(col)\n",
    "            #print(items)\\\n",
    "            \n",
    "    def calc_off(self):\n",
    "        if self.offset_count > 0:\n",
    "            offset = self.endpoint_limit*self.offset_count-1\n",
    "        else:\n",
    "            offset = 0\n",
    "        self.offset_count += 1\n",
    "        return offset \n",
    "    \n",
    "    def get_song_data(self, artist_list, artist_id, isAlbum):\n",
    "        offset = self.calc_off()\n",
    "        if isAlbum:\n",
    "            endpoint_query = urlencode({\"include_groups\": \"single,appears_on\", \"limit\": self.endpoint_limit, \"offset\": offset})\n",
    "        else:\n",
    "            endpoint_query = urlencode({\"limit\": self.endpoint_limit, \"offset\": offset})\n",
    "        r = self.get_request(endpoint_query)\n",
    "        #print(r.status_code)\n",
    "        try:\n",
    "            items = r.json()['items']\n",
    "        except:\n",
    "            print(r.json())\n",
    "        #items = r.json()['items']\n",
    "        for item in items:\n",
    "            list_col = []\n",
    "            artists = item['artists']\n",
    "            if len(artists) > 1:\n",
    "                list_col.append(item['name'])\n",
    "                list_col.append(item['id'])\n",
    "                for artist in artists:  \n",
    "                    list_col.append(artist['name'])\n",
    "                    list_col.append(artist['id'])\n",
    "                list_col.append(artist_id)\n",
    "                artist_list.append(list_col)\n",
    "        if len(items) == 50:\n",
    "            #print(\"offset: \"+ str(self.offset_count) + \" items: \" + str(len(items)))\n",
    "            self.get_song_data(artist_list, artist_id ,isAlbum)\n",
    "    \n",
    "    def get_albums_data(self, album_list, artist_id):\n",
    "        offset = self.calc_off()\n",
    "        endpoint_query = urlencode({\"limit\": self.endpoint_limit, \"offset\": offset})\n",
    "        r = self.get_request(endpoint_query)\n",
    "        #print(r.status_code)\n",
    "        try:\n",
    "            items = r.json()['items']\n",
    "        except:\n",
    "            print(r.json())\n",
    "        #items = r.json()['items']\n",
    "        for item in items:\n",
    "            list_col = []\n",
    "            artists = item['artists']\n",
    "            if item['album_group'] == \"album\":\n",
    "                list_col.append(item['name'])\n",
    "                list_col.append(item['id'])\n",
    "                list_col.append(artist_id)\n",
    "                album_list.append(list_col) \n",
    "        if len(items) == 50:\n",
    "            #print(\"offset: \"+ str(self.offset_count) + \" items: \" + str(len(items)))\n",
    "            self.get_albums_data(album_list, artist_id)\n",
    "    \n",
    "    def get_albums(self):\n",
    "        self.endpoint_limit = 50\n",
    "        artist_list = []\n",
    "        album_list = []\n",
    "        for i in self.artist_row:\n",
    "            self.offset_count = 0\n",
    "            print(i[0])\n",
    "            artist_id = i[1]\n",
    "            self.endpoint_type = \"artists/\"+artist_id+\"/albums?\"\n",
    "            self.get_song_data(artist_list, artist_id, True)\n",
    "            self.offset_count = 0\n",
    "            self.get_albums_data(album_list, artist_id)    \n",
    "        lists_ret = dict()\n",
    "        lists_ret['artists_link'] = artist_list\n",
    "        lists_ret['all_albums'] = album_list\n",
    "        return(lists_ret)\n",
    "    \n",
    "    def get_songs(self, lists_ret):\n",
    "        self.endpoint_limit = 50\n",
    "        artist_list = lists_ret['artists_link']\n",
    "        album_list = lists_ret['all_albums']\n",
    "        for album in album_list:\n",
    "            self.offset_count = 0\n",
    "            album_id = album[1]\n",
    "            artist_id = album[len(album)-1]\n",
    "            self.endpoint_type = \"albums/\"+album_id+\"/tracks?\"\n",
    "            self.get_song_data(artist_list, artist_id, False)\n",
    "        return artist_list\n",
    "    "
   ]
  },
  {
   "cell_type": "code",
   "execution_count": 6,
   "id": "793c0b92",
   "metadata": {
    "scrolled": true
   },
   "outputs": [
    {
     "name": "stdout",
     "output_type": "stream",
     "text": [
      "success\n",
      "200\n"
     ]
    }
   ],
   "source": [
    "spotify = SpotifyAPI(client_id, client_secret)\n",
    "spotify.get_auth()\n",
    "access_token = spotify.access_token\n",
    "query = SpotifyQuery(access_token)"
   ]
  },
  {
   "cell_type": "code",
   "execution_count": 7,
   "id": "5b702c7d",
   "metadata": {},
   "outputs": [],
   "source": [
    "query.get_artistid()"
   ]
  },
  {
   "cell_type": "code",
   "execution_count": 8,
   "id": "16878e4a",
   "metadata": {},
   "outputs": [
    {
     "name": "stdout",
     "output_type": "stream",
     "text": [
      "[['Drake', '3TVXtAsR1Inumwj472S9r4'], ['Bad Bunny', '4q3ewBCX7sLwd24euuV69X'], ['Ed Sheeran', '6eUKZXaKkcviH0Ku9w2n3V'], ['The Weeknd', '1Xyo4u8uXC1ZmMpatF05PJ'], ['Taylor Swift', '06HL4z0CvFAxyc27GXpf02'], ['Justin Bieber', '1uNFoZAHBGtllmzznpCI3s'], ['Ariana Grande', '66CXWjxzNUsdJxJ2JdwvnR'], ['Eminem', '7dGJo4pcD2V6oG8kP0tJRR'], ['Post Malone', '246dkjvS1zLTtiykXe5h60'], ['BTS', '3Nrfpe0tUJi4K4DXYWgMUX'], ['J Balvin', '1vyhD5VmyZ7KMfW5gqLgo5'], ['Kanye West', '5K4W6rqBFWDnAN6FQUkS6x'], ['Billie Eilish', '6qqNVTkY8uBg9cP3Jd7DAH'], ['Juice WRLD', '4MCBfE4596Uoi2O4DtmEMz'], ['Coldplay', '4gzpq5DPGxSnKTe4SA8HAU'], ['Dua Lipa', '6M2wZ9GZgrQXHCFfjv46we'], ['Imagine Dragons', '53XhwfbYqKCa1cC15pYq2q'], ['XXXTENTACION', '15UsOTVnJzReFVN1VCnxy4'], ['Ozuna', '1i8SpTcr7yvPOmcqrbnVXY'], ['Khalid', '6LuN9FCkKOj5PcnpouEgny'], ['Rihanna', '5pKCCKE2ajJHZ9KAiaK11H'], ['Maroon 5', '04gDigrS5kc9YWfZHwBETP'], ['Travis Scott', '0Y5tJX1MQlPlqiwlOH1tJY'], ['David Guetta', '1Cs0zKBU1kc0i8ypK3B9ai'], ['Shawn Mendes', '7n2wHs1TKAczGzO7Dd2rGr'], ['Bruno Mars', '0du5cEVh5yTK9QJze8zA0C'], ['Daddy Yankee', '4VMYDCV2IEDYJArk749S6m'], ['Calvin Harris', '7CajNmpbOovFoOoasH2HaY'], ['Kendrick Lamar', '2YZyLoL8N0Wb9xBt1NhZWg'], ['Sam Smith', '2wY79sveU1sp5g7SokKOiI'], ['Queen', '1dfeR4HaWDbWqFHLkxsg1d'], ['Beyoncé', '6vWDO969PvNqNYHIOW5v0m'], ['Future', '1RyvyyTE3xzB2ZywiAwp0i'], ['One Direction', '4AK6F7OLvEQ5QYCBNiQWHq'], ['The Chainsmokers', '69GGBxA162lTqCwzJG5jLp'], ['Lady Gaga', '1HY2Jd0NmPuamShAr6KMms'], ['J. Cole', '6l3HvQ5sa6mXTsMTB19rO5'], ['Nicki Minaj', '0hCNtLu0JehylgoiP8L4Gh'], ['Anuel AA', '2R21vXR83lH98kGeO99Y66'], ['Adele', '4dpARuHxo51G3z768sgnrY'], ['Halsey', '26VFTg2z8YR0cCuwLzESi2'], ['The Beatles', '3WrFJ7ztbogyGnTHbHJFl2'], ['Selena Gomez', '0C8ZW7ezQVs4URX5aX7Kqx'], ['Harry Styles', '6KImCVD70vtIoJWnq6nGn3'], ['Sia', '5WUlDfRSoLAfcVSX1WnrxN'], ['Chris Brown', '7bXgB6jMjp9ATFy66eO08Z'], ['Maluma', '1r4hJ1h58CWwUQe3MxPuau'], ['Marshmello', '64KEffDW9EtZ1y2vBYgq8T'], ['Linkin Park', '6XyY86QOPPrYVGvF9ch6wz'], ['Lil Uzi Vert', '4O15NlyKLIASxsJ0PrXPfz'], ['Twenty One Pilots', '3YQKmKGau1PzlVlkL1iodx'], ['Katy Perry', '6jJ0s89eD6GaHleKKya26X'], ['Lana Del Rey', '00FQb4jTyendYWaN8pK0wa'], ['Rauw Alejandro', '1mcTU81TzQhprhouKaTkpq'], ['Kygo', '23fqKkggKUBHNkbKtXEls4'], ['Avicii', '1vCWHaC5f2uS3yhpwWbIA6'], ['Doja Cat', '5cj0lLjcoR7YOSnhnX0Po5'], ['Farruko', '329e4yvIujISKGKz1BZZbO'], ['Camila Cabello', '4nDoRrQiYLoBzwC5BhVJzF'], ['Arctic Monkeys', '7Ln80lUS6He07XvHI8qqHH'], ['KAROL G', '790FomKkXshlbRYZFtlgla'], ['Jason Derulo', '07YZf4WDAMNwqr4jfgOZ8y'], ['Red Hot Chili Peppers', '0L8ExT028jH3ddEcZwqJJ5'], ['Shakira', '0EmeFodog0BfCgMzAIvKQp'], ['Demi Lovato', '6S2OmqARrzebs0tKUEyXyp'], ['OneRepublic', '5Pwc4xIPtQLFEnJriah9YJ'], ['Miley Cyrus', '5YGY8feqx7naU7z4HrwZM6'], ['Nicky Jam', '1SupJlEpv7RS2tPNRaHViT'], ['Michael Jackson', '3fMbdgg4jU18AjLCKBhRSm'], ['Myke Towers', '7iK8PXO48WeuP03g8YR51W'], ['Charlie Puth', '6VuMaDnrHyPL1p4EHjYLi7'], ['Pitbull', '0TnOYISbd1XYRBk9myaseg'], ['Lil Baby', '5f7VJjfbwm532GiveGC0ZK'], ['21 Savage', '1URnnhqYAYcrqrcwql10ft'], ['DaBaby', '4r63FhuTkUYltbVAg5TQnk'], ['Mac Miller', '4LLpKhyESsyAXpc4laK94U'], ['Martin Garrix', '60d24wfXkVzDSfLS6hyCjZ'], ['Pop Smoke', '0eDvMgVFoNV3TpwtrVCoTj'], ['Sebastian Yatra', '07YUOmWljBTXwIseAUd9TW'], ['Olivia Rodrigo', '1McMsnEElThX1knmY4oliG'], ['Cardi B', '4kYSro6naA4h99UJvo89HB'], ['Panic! At The Disco', '20JZFwl6HVl6yg8a4H3ZqK'], ['Lil Wayne', '55Aa2cqylxrFIXC767Z865'], ['Metallica', '2ye2Wgw4gimLv2eAKyk1NB'], ['Sech', '77ziqFxp5gaInVrF2lj4ht'], ['Lil Nas X', '7jVv8c5Fj3E9VhNjxT4snq'], ['Ellie Goulding', '0X2BH1fck6amBIoJhDVmmJ'], ['Young Thug', '50co4Is1HCEo8bhOyUWKpn'], ['G-Eazy', '02kJSzxNuaWGqwubyUba0Z'], ['Alan Walker', '7vk5e3vY1uw9plTHJAMwjN'], ['Lil Peep', '2kCcBybjl3SAtIcwdWpUe3'], ['Major Lazer', '738wLrAtLtCtFOLvQBXOXp'], ['Wiz Khalifa', '137W8MRPWKqSmrBGDBFSop'], ['Elton John', '3PhoLpVuITZKcymswpck5b'], ['Fall Out Boy', '4UXqAaa6dQYAk18Lv7PEgX'], ['AC/DC', '711MCceyCBcFnzjGY4Q7Un'], ['P!nk', '1KCSPY1glIKqW2TotWuXOR'], ['Tyga', '5LHRHt1k9lMyONurDHEdrp'], ['John Mayer', '0hEurMDQu99nJRq8pTxO14'], ['Trippie Redd', '6Xgp2XMz1fhVYe7i6yNAax']]\n"
     ]
    }
   ],
   "source": [
    "print(query.artist_row)"
   ]
  },
  {
   "cell_type": "code",
   "execution_count": 9,
   "id": "8e895f50",
   "metadata": {},
   "outputs": [
    {
     "name": "stdout",
     "output_type": "stream",
     "text": [
      "Drake\n",
      "Bad Bunny\n",
      "Ed Sheeran\n",
      "The Weeknd\n",
      "Taylor Swift\n",
      "Justin Bieber\n",
      "Ariana Grande\n",
      "Eminem\n",
      "Post Malone\n",
      "BTS\n",
      "J Balvin\n",
      "Kanye West\n",
      "Billie Eilish\n",
      "Juice WRLD\n",
      "Coldplay\n",
      "Dua Lipa\n"
     ]
    },
    {
     "ename": "TypeError",
     "evalue": "can only concatenate str (not \"dict\") to str",
     "output_type": "error",
     "traceback": [
      "\u001b[1;31m---------------------------------------------------------------------------\u001b[0m",
      "\u001b[1;31mKeyError\u001b[0m                                  Traceback (most recent call last)",
      "Cell \u001b[1;32mIn [5], line 57\u001b[0m, in \u001b[0;36mSpotifyQuery.get_song_data\u001b[1;34m(self, artist_list, artist_id, isAlbum)\u001b[0m\n\u001b[0;32m     56\u001b[0m \u001b[38;5;28;01mtry\u001b[39;00m:\n\u001b[1;32m---> 57\u001b[0m     items \u001b[38;5;241m=\u001b[39m \u001b[43mr\u001b[49m\u001b[38;5;241;43m.\u001b[39;49m\u001b[43mjson\u001b[49m\u001b[43m(\u001b[49m\u001b[43m)\u001b[49m\u001b[43m[\u001b[49m\u001b[38;5;124;43m'\u001b[39;49m\u001b[38;5;124;43mitems\u001b[39;49m\u001b[38;5;124;43m'\u001b[39;49m\u001b[43m]\u001b[49m\n\u001b[0;32m     58\u001b[0m \u001b[38;5;28;01mexcept\u001b[39;00m:\n",
      "\u001b[1;31mKeyError\u001b[0m: 'items'",
      "\nDuring handling of the above exception, another exception occurred:\n",
      "\u001b[1;31mTypeError\u001b[0m                                 Traceback (most recent call last)",
      "Cell \u001b[1;32mIn [9], line 1\u001b[0m\n\u001b[1;32m----> 1\u001b[0m dictionary \u001b[38;5;241m=\u001b[39m query\u001b[38;5;241m.\u001b[39mget_albums()\n",
      "Cell \u001b[1;32mIn [5], line 107\u001b[0m, in \u001b[0;36mSpotifyQuery.get_albums\u001b[1;34m(self)\u001b[0m\n\u001b[0;32m    105\u001b[0m artist_id \u001b[38;5;241m=\u001b[39m i[\u001b[38;5;241m1\u001b[39m]\n\u001b[0;32m    106\u001b[0m \u001b[38;5;28mself\u001b[39m\u001b[38;5;241m.\u001b[39mendpoint_type \u001b[38;5;241m=\u001b[39m \u001b[38;5;124m\"\u001b[39m\u001b[38;5;124martists/\u001b[39m\u001b[38;5;124m\"\u001b[39m\u001b[38;5;241m+\u001b[39martist_id\u001b[38;5;241m+\u001b[39m\u001b[38;5;124m\"\u001b[39m\u001b[38;5;124m/albums?\u001b[39m\u001b[38;5;124m\"\u001b[39m\n\u001b[1;32m--> 107\u001b[0m \u001b[38;5;28;43mself\u001b[39;49m\u001b[38;5;241;43m.\u001b[39;49m\u001b[43mget_song_data\u001b[49m\u001b[43m(\u001b[49m\u001b[43martist_list\u001b[49m\u001b[43m,\u001b[49m\u001b[43m \u001b[49m\u001b[43martist_id\u001b[49m\u001b[43m,\u001b[49m\u001b[43m \u001b[49m\u001b[38;5;28;43;01mTrue\u001b[39;49;00m\u001b[43m)\u001b[49m\n\u001b[0;32m    108\u001b[0m \u001b[38;5;28mself\u001b[39m\u001b[38;5;241m.\u001b[39moffset_count \u001b[38;5;241m=\u001b[39m \u001b[38;5;241m0\u001b[39m\n\u001b[0;32m    109\u001b[0m \u001b[38;5;28mself\u001b[39m\u001b[38;5;241m.\u001b[39mget_albums_data(album_list, artist_id)    \n",
      "Cell \u001b[1;32mIn [5], line 74\u001b[0m, in \u001b[0;36mSpotifyQuery.get_song_data\u001b[1;34m(self, artist_list, artist_id, isAlbum)\u001b[0m\n\u001b[0;32m     71\u001b[0m         artist_list\u001b[38;5;241m.\u001b[39mappend(list_col)\n\u001b[0;32m     72\u001b[0m \u001b[38;5;28;01mif\u001b[39;00m \u001b[38;5;28mlen\u001b[39m(items) \u001b[38;5;241m==\u001b[39m \u001b[38;5;241m50\u001b[39m:\n\u001b[0;32m     73\u001b[0m     \u001b[38;5;66;03m#print(\"offset: \"+ str(self.offset_count) + \" items: \" + str(len(items)))\u001b[39;00m\n\u001b[1;32m---> 74\u001b[0m     \u001b[38;5;28;43mself\u001b[39;49m\u001b[38;5;241;43m.\u001b[39;49m\u001b[43mget_song_data\u001b[49m\u001b[43m(\u001b[49m\u001b[43martist_list\u001b[49m\u001b[43m,\u001b[49m\u001b[43m \u001b[49m\u001b[43martist_id\u001b[49m\u001b[43m \u001b[49m\u001b[43m,\u001b[49m\u001b[43misAlbum\u001b[49m\u001b[43m)\u001b[49m\n",
      "Cell \u001b[1;32mIn [5], line 74\u001b[0m, in \u001b[0;36mSpotifyQuery.get_song_data\u001b[1;34m(self, artist_list, artist_id, isAlbum)\u001b[0m\n\u001b[0;32m     71\u001b[0m         artist_list\u001b[38;5;241m.\u001b[39mappend(list_col)\n\u001b[0;32m     72\u001b[0m \u001b[38;5;28;01mif\u001b[39;00m \u001b[38;5;28mlen\u001b[39m(items) \u001b[38;5;241m==\u001b[39m \u001b[38;5;241m50\u001b[39m:\n\u001b[0;32m     73\u001b[0m     \u001b[38;5;66;03m#print(\"offset: \"+ str(self.offset_count) + \" items: \" + str(len(items)))\u001b[39;00m\n\u001b[1;32m---> 74\u001b[0m     \u001b[38;5;28;43mself\u001b[39;49m\u001b[38;5;241;43m.\u001b[39;49m\u001b[43mget_song_data\u001b[49m\u001b[43m(\u001b[49m\u001b[43martist_list\u001b[49m\u001b[43m,\u001b[49m\u001b[43m \u001b[49m\u001b[43martist_id\u001b[49m\u001b[43m \u001b[49m\u001b[43m,\u001b[49m\u001b[43misAlbum\u001b[49m\u001b[43m)\u001b[49m\n",
      "    \u001b[1;31m[... skipping similar frames: SpotifyQuery.get_song_data at line 74 (26 times)]\u001b[0m\n",
      "Cell \u001b[1;32mIn [5], line 74\u001b[0m, in \u001b[0;36mSpotifyQuery.get_song_data\u001b[1;34m(self, artist_list, artist_id, isAlbum)\u001b[0m\n\u001b[0;32m     71\u001b[0m         artist_list\u001b[38;5;241m.\u001b[39mappend(list_col)\n\u001b[0;32m     72\u001b[0m \u001b[38;5;28;01mif\u001b[39;00m \u001b[38;5;28mlen\u001b[39m(items) \u001b[38;5;241m==\u001b[39m \u001b[38;5;241m50\u001b[39m:\n\u001b[0;32m     73\u001b[0m     \u001b[38;5;66;03m#print(\"offset: \"+ str(self.offset_count) + \" items: \" + str(len(items)))\u001b[39;00m\n\u001b[1;32m---> 74\u001b[0m     \u001b[38;5;28;43mself\u001b[39;49m\u001b[38;5;241;43m.\u001b[39;49m\u001b[43mget_song_data\u001b[49m\u001b[43m(\u001b[49m\u001b[43martist_list\u001b[49m\u001b[43m,\u001b[49m\u001b[43m \u001b[49m\u001b[43martist_id\u001b[49m\u001b[43m \u001b[49m\u001b[43m,\u001b[49m\u001b[43misAlbum\u001b[49m\u001b[43m)\u001b[49m\n",
      "Cell \u001b[1;32mIn [5], line 59\u001b[0m, in \u001b[0;36mSpotifyQuery.get_song_data\u001b[1;34m(self, artist_list, artist_id, isAlbum)\u001b[0m\n\u001b[0;32m     57\u001b[0m     items \u001b[38;5;241m=\u001b[39m r\u001b[38;5;241m.\u001b[39mjson()[\u001b[38;5;124m'\u001b[39m\u001b[38;5;124mitems\u001b[39m\u001b[38;5;124m'\u001b[39m]\n\u001b[0;32m     58\u001b[0m \u001b[38;5;28;01mexcept\u001b[39;00m:\n\u001b[1;32m---> 59\u001b[0m     \u001b[38;5;28mprint\u001b[39m(\u001b[38;5;124;43m\"\u001b[39;49m\u001b[38;5;124;43mdamn son we fucked\u001b[39;49m\u001b[38;5;124;43m\"\u001b[39;49m\u001b[38;5;241;43m+\u001b[39;49m\u001b[38;5;124;43m\"\u001b[39;49m\u001b[38;5;130;43;01m\\n\u001b[39;49;00m\u001b[38;5;124;43m\"\u001b[39;49m\u001b[38;5;241;43m+\u001b[39;49m\u001b[43mr\u001b[49m\u001b[38;5;241;43m.\u001b[39;49m\u001b[43mjson\u001b[49m\u001b[43m(\u001b[49m\u001b[43m)\u001b[49m)\n\u001b[0;32m     60\u001b[0m \u001b[38;5;66;03m#items = r.json()['items']\u001b[39;00m\n\u001b[0;32m     61\u001b[0m \u001b[38;5;28;01mfor\u001b[39;00m item \u001b[38;5;129;01min\u001b[39;00m items:\n",
      "\u001b[1;31mTypeError\u001b[0m: can only concatenate str (not \"dict\") to str"
     ]
    }
   ],
   "source": [
    "dictionary = query.get_albums()"
   ]
  },
  {
   "cell_type": "code",
   "execution_count": null,
   "id": "35e27b4c",
   "metadata": {},
   "outputs": [],
   "source": []
  },
  {
   "cell_type": "code",
   "execution_count": null,
   "id": "0588774b",
   "metadata": {},
   "outputs": [],
   "source": [
    "print(dictionary)"
   ]
  },
  {
   "cell_type": "code",
   "execution_count": null,
   "id": "6c96ad88",
   "metadata": {},
   "outputs": [],
   "source": [
    "print(dictionary['all_albums'])"
   ]
  },
  {
   "cell_type": "code",
   "execution_count": null,
   "id": "bb9316ac",
   "metadata": {},
   "outputs": [],
   "source": [
    "songList = query.get_songs(dictionary)"
   ]
  },
  {
   "cell_type": "code",
   "execution_count": null,
   "id": "bfc74dcd",
   "metadata": {},
   "outputs": [],
   "source": [
    "print(songList)"
   ]
  },
  {
   "cell_type": "code",
   "execution_count": null,
   "id": "5d288a94",
   "metadata": {},
   "outputs": [],
   "source": [
    "artist_songs = dict()\n",
    "\n",
    "for a in query.artist_row:\n",
    "    artist_songs[a[1]] = [a[0]]\n",
    "    \n",
    "print(artist_songs)"
   ]
  },
  {
   "cell_type": "code",
   "execution_count": null,
   "id": "9cde025e",
   "metadata": {},
   "outputs": [],
   "source": [
    "for song in songList:\n",
    "    index = len(song)-1\n",
    "    artist_songs[song[index]].append(song)\n",
    "print(artist_songs)"
   ]
  },
  {
   "cell_type": "code",
   "execution_count": null,
   "id": "170559ce-0bb1-49e0-bb95-05572b79013d",
   "metadata": {},
   "outputs": [],
   "source": [
    "artist_songs['4q3ewBCX7sLwd24euuV69X']"
   ]
  },
  {
   "cell_type": "code",
   "execution_count": null,
   "id": "d1ec3b38",
   "metadata": {},
   "outputs": [],
   "source": [
    "len(artist_songs['6eUKZXaKkcviH0Ku9w2n3V'])"
   ]
  },
  {
   "cell_type": "code",
   "execution_count": null,
   "id": "b8448c72",
   "metadata": {},
   "outputs": [],
   "source": [
    "\"\"\"\n",
    "all songs are organized in a dictionary under the artist id as a key.\n",
    "added the artist id to the end of the song list. \n",
    "then using the artist list i made a dictionary.\n",
    "populated the dictionary using the artist id at the end of the song list.\n",
    "\n",
    "access data by iterating or looking up a key.\n",
    "\"\"\""
   ]
  },
  {
   "cell_type": "code",
   "execution_count": null,
   "id": "65d52eec",
   "metadata": {
    "jupyter": {
     "outputs_hidden": true
    },
    "tags": []
   },
   "outputs": [],
   "source": [
    "#songList = query.get_songs(dictionary)\n",
    "cleanSongList = [];\n",
    "found = False\n",
    "\n",
    "for i in range(0, len(songList)):\n",
    "    for j in range(0, len(cleanSongList)):\n",
    "        if songList[i][0] == cleanSongList[j][0]:\n",
    "            found = True\n",
    "            break\n",
    "    if not found:\n",
    "        cleanSongList.append(songList[i])\n",
    "    found = False\n",
    "for song in cleanSongList:\n",
    "    print(song)\n",
    "    print(\"\\n\")"
   ]
  },
  {
   "cell_type": "code",
   "execution_count": null,
   "id": "9f4ba41b",
   "metadata": {},
   "outputs": [],
   "source": [
    "import csv\n",
    "\n",
    "#create edge list\n",
    "\n",
    "edgelist = [[\"Target\", \"Source\"]]\n",
    "#Assumes max of 3 artists per song\n",
    "for song in cleanSongList:\n",
    "    size = len(song)\n",
    "    if size == 4:\n",
    "        continue\n",
    "    elif size == 6:\n",
    "        edgelist.append([song[3],song[5]])\n",
    "    elif size == 8:\n",
    "        edgelist.append([song[3],song[5]])\n",
    "        edgelist.append([song[3],song[7]])\n",
    "        edgelist.append([song[5],song[7]])\n",
    "\n",
    "with open('edgelist.csv', 'w') as f:\n",
    "    write = csv.writer(f)\n",
    "    write.writerows(edgelist)\n",
    "\n",
    "\n",
    "# with open('songlist.csv', 'w') as f:\n",
    "#     write = csv.writer(f)\n",
    "#     write.writerows(cleanSongList)"
   ]
  },
  {
   "cell_type": "code",
   "execution_count": null,
   "id": "c5e7d28f-2a1c-4448-8575-4b3d18e8adaf",
   "metadata": {},
   "outputs": [],
   "source": []
  }
 ],
 "metadata": {
  "kernelspec": {
   "display_name": "Python 3 (ipykernel)",
   "language": "python",
   "name": "python3"
  },
  "language_info": {
   "codemirror_mode": {
    "name": "ipython",
    "version": 3
   },
   "file_extension": ".py",
   "mimetype": "text/x-python",
   "name": "python",
   "nbconvert_exporter": "python",
   "pygments_lexer": "ipython3",
   "version": "3.10.1"
  }
 },
 "nbformat": 4,
 "nbformat_minor": 5
}
