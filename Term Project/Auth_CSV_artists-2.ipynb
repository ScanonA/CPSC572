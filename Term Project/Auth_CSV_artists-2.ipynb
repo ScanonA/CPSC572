{
 "cells": [
  {
   "cell_type": "code",
   "execution_count": null,
   "id": "fe5626b9",
   "metadata": {
    "scrolled": true
   },
   "outputs": [],
   "source": [
    "#import libraries\n",
    "import base64\n",
    "import csv\n",
    "import requests #pip install requests\n",
    "import datetime\n",
    "from urllib.parse import urlencode"
   ]
  },
  {
   "cell_type": "code",
   "execution_count": null,
   "id": "8025e33d",
   "metadata": {
    "scrolled": true
   },
   "outputs": [],
   "source": [
    "#setting up variables\n",
    "client_id = '5aedd1d0682f46618896dcea6108e3b4'\n",
    "# client_id = '38b14309a0ff483c916d7cb978dc3dd3'\n",
    "\n",
    "client_secret = 'e3c2c283017d452a93ddc951053196d2'\n",
    "# client_secret = '0b9ec7ff5b52480dbbe7b0649b9deb33'\n",
    "access_token = None"
   ]
  },
  {
   "cell_type": "code",
   "execution_count": null,
   "id": "635209fa",
   "metadata": {
    "scrolled": true
   },
   "outputs": [],
   "source": [
    "class ReadArtists(): \n",
    "    #gets list of artists\n",
    "    def getList():\n",
    "        artist_list = []\n",
    "        # with open(\"artist_list10.csv\", \"r\", encoding=\"utf-8\") as a_file:\n",
    "        with open(\"artist_list34.csv\") as a_file:\n",
    "            reader = csv.reader(a_file)\n",
    "            count = 0\n",
    "            for row in reader:\n",
    "                artist_list.append(row[0])\n",
    "                #print(row[0])\n",
    "            #print(artist_list)\n",
    "            a_file.close()\n",
    "        return artist_list"
   ]
  },
  {
   "cell_type": "code",
   "execution_count": null,
   "id": "346fcc81",
   "metadata": {
    "scrolled": true
   },
   "outputs": [],
   "source": [
    "#https://www.youtube.com/watch?v=xdq6Gz33khQ&t=1318s\n",
    "#code derived from link above\n",
    "#code gets a authentication token from spotify in order to get access to the database\n",
    "class SpotifyAPI():\n",
    "    access_token = None\n",
    "    access_token_expires = None\n",
    "    access_token_hasExpired = True\n",
    "    c_id = None\n",
    "    c_secret = None\n",
    "    token_url = \"https://accounts.spotify.com/api/token\"\n",
    "    \n",
    "    def __init__(self, client_id, client_secret):\n",
    "        self.client_id = client_id\n",
    "        self.client_secret = client_secret\n",
    "\n",
    "    def encode_credentials (self):\n",
    "        id = self.client_id\n",
    "        secret = self.client_secret\n",
    "        if secret == None or id == None:\n",
    "            raise Exception(\"client id or secret is not set\")\n",
    "        client_creds = f\"{id}:{secret}\"\n",
    "        client_creds_b64 = base64.b64encode(client_creds.encode())\n",
    "        return client_creds_b64.decode()\n",
    "    \n",
    "    def token_headers(self):\n",
    "        c64_credentials = self.encode_credentials()\n",
    "        return {\n",
    "            \"Authorization\": f\"Basic {c64_credentials}\"\n",
    "        }\n",
    "    \n",
    "    def token_data(self):\n",
    "        return {\n",
    "            \"grant_type\": \"client_credentials\"\n",
    "        }\n",
    "    \n",
    "    def get_auth(self):\n",
    "        r= requests.post(self.token_url, data=self.token_data(), headers=self.token_headers())\n",
    "        if r.status_code in range(200,299):\n",
    "            now = datetime.datetime.now()\n",
    "            self.access_token = r.json()['access_token']\n",
    "            expires = now + datetime.timedelta(seconds=r.json()['expires_in'])\n",
    "            self.access_token_expires = expires\n",
    "            self.access_token_hasExpired = expires < now\n",
    "            print(\"success\")\n",
    "        print(r.status_code)"
   ]
  },
  {
   "cell_type": "code",
   "execution_count": null,
   "id": "6d83a370",
   "metadata": {
    "scrolled": true
   },
   "outputs": [],
   "source": [
    "#SpotifyQuery class uders endpoints to get artist id, albums, and songs\n",
    "\n",
    "class SpotifyQuery():\n",
    "    headers = None\n",
    "    artist_lookup = None\n",
    "    endpoint_url = \"https://api.spotify.com/v1/\"\n",
    "    endpoint_type = None\n",
    "    enpoint_limit = None\n",
    "    endpoint = None\n",
    "    offset_count = 0\n",
    "    artist_row = []\n",
    "    total_songs = 0\n",
    "    \n",
    "    def __init__(self, access_token):\n",
    "        self.headers = {\n",
    "                \"Authorization\": f\"Bearer {access_token}\"\n",
    "        }\n",
    "    #This creates an endpoint query that is readable by Spotify database   \n",
    "    def get_request(self, endpoint_query):\n",
    "        self.endpoint = self.endpoint_url+self.endpoint_type+endpoint_query\n",
    "        #print(self.endpoint)\n",
    "        return requests.get(self.endpoint, headers = self.headers)\n",
    "    \n",
    "    #Takes in a list of artist names in string and populates a global variable with the artist's ID\n",
    "    def get_artistid(self):\n",
    "        artist_list = ReadArtists.getList()\n",
    "        self.endpoint_type = \"search?\"\n",
    "        self.endpoint_limit = 1\n",
    "        for i in artist_list:\n",
    "            col = []\n",
    "            artist_lookup = i\n",
    "            endpoint_query = urlencode({\"q\": artist_lookup,\"type\": \"artist\", \"limit\": self.endpoint_limit})\n",
    "            #self.endpoint = self.endpoint_url+self.endpoint_type+endpoint_query\n",
    "            #r = requests.get(self.endpoint, headers = self.headers)\n",
    "            r = self.get_request(endpoint_query)\n",
    "            #print(r.status_code)\n",
    "            items = r.json()['artists']['items'][0]\n",
    "            col.append(items['name'])\n",
    "            col.append(items['id'])\n",
    "            self.artist_row.append(col)\n",
    "            #print(items)\\\n",
    "    \n",
    "    #Offset is used so that we can get all of the artist's infromation and not just the first page of entries in the database\n",
    "    #the max number of returns is 50 from the spotify dataset is 50\n",
    "    def calc_off(self):\n",
    "        if self.offset_count > 0:\n",
    "            offset = self.endpoint_limit*self.offset_count-1\n",
    "        else:\n",
    "            offset = 0\n",
    "        self.offset_count += 1\n",
    "        return offset \n",
    "    \n",
    "    #using the album ID this method all the songs in an album or an artists single depending on the isAlbum flag\n",
    "    #this function uses recursion so that the offset can be changed and all the song data can be retrieved\n",
    "    def get_song_data(self, artist_list, artist_id, isAlbum):\n",
    "        offset = self.calc_off() \n",
    "        if(offset<self.total_songs or offset==0):\n",
    "            if isAlbum:\n",
    "                endpoint_query = urlencode({\"include_groups\": \"single,appears_on\", \"limit\": self.endpoint_limit, \"offset\": offset})\n",
    "            else:\n",
    "                endpoint_query = urlencode({\"limit\": self.endpoint_limit, \"offset\": offset})\n",
    "            r = self.get_request(endpoint_query)\n",
    "            #print(r.status_code)\n",
    "            try:\n",
    "                items = r.json()['items']\n",
    "                self.total_songs = r.json()['total']\n",
    "            except:\n",
    "                print(r.json())\n",
    "            #items = r.json()['items']\n",
    "            for item in items:\n",
    "                list_col = []\n",
    "                artists = item['artists']\n",
    "                if len(artists) > 1:\n",
    "                    list_col.append(item['name'])\n",
    "                    list_col.append(item['id'])\n",
    "                    for artist in artists:  \n",
    "                        list_col.append(artist['name'])\n",
    "                        list_col.append(artist['id'])\n",
    "                    list_col.append(artist_id)\n",
    "                    artist_list.append(list_col)\n",
    "            if len(items) == 50:\n",
    "                #print(\"offset: \"+ str(self.offset_count) + \" items: \" + str(len(items)))\n",
    "                self.get_song_data(artist_list, artist_id ,isAlbum)\n",
    "    \n",
    "    #using the ArtistID this method returns every single albumIDnder that artist name in order to get every single song\n",
    "    #from each album \n",
    "    def get_albums_data(self, album_list, artist_id):\n",
    "        offset = self.calc_off()\n",
    "        if(offset<self.total_songs or offset==0):\n",
    "            endpoint_query = urlencode({\"limit\": self.endpoint_limit, \"offset\": offset})\n",
    "            r = self.get_request(endpoint_query)\n",
    "            #print(r.status_code)\n",
    "            try:\n",
    "                items = r.json()['items']\n",
    "                self.total_songs = r.json()['total']\n",
    "            except:\n",
    "                print(r.json())\n",
    "                print(\"heeeeerererererer\")\n",
    "            #items = r.json()['items']\n",
    "            for item in items:\n",
    "                list_col = []\n",
    "                artists = item['artists']\n",
    "                if item['album_group'] == \"album\":\n",
    "                    list_col.append(item['name'])\n",
    "                    list_col.append(item['id'])\n",
    "                    list_col.append(artist_id)\n",
    "                    album_list.append(list_col) \n",
    "            if len(items) == 50:\n",
    "                #print(\"offset: \"+ str(self.offset_count) + \" items: \" + str(len(items)))\n",
    "                self.get_albums_data(album_list, artist_id)\n",
    "    \n",
    "    #This function gets all the album information from artistID.\n",
    "    def get_albums(self):\n",
    "        self.endpoint_limit = 50\n",
    "        artist_list = []\n",
    "        album_list = []\n",
    "        for i in self.artist_row:\n",
    "            self.offset_count = 0\n",
    "            print(i[0])\n",
    "            artist_id = i[1]\n",
    "            self.endpoint_type = \"artists/\"+artist_id+\"/albums?\"\n",
    "            self.get_song_data(artist_list, artist_id, True)\n",
    "            self.offset_count = 0\n",
    "            self.get_albums_data(album_list, artist_id)    \n",
    "        lists_ret = dict()\n",
    "        lists_ret['artists_link'] = artist_list\n",
    "        lists_ret['all_albums'] = album_list\n",
    "        return(lists_ret)\n",
    "    \n",
    "    #returns all songs in an album ID\n",
    "    def get_songs(self, lists_ret):\n",
    "        self.endpoint_limit = 50\n",
    "        artist_list = lists_ret['artists_link']\n",
    "        album_list = lists_ret['all_albums']\n",
    "        for album in album_list:\n",
    "            self.offset_count = 0\n",
    "            album_id = album[1]\n",
    "            artist_id = album[len(album)-1]\n",
    "            self.endpoint_type = \"albums/\"+album_id+\"/tracks?\"\n",
    "            self.get_song_data(artist_list, artist_id, False)\n",
    "        return artist_list\n",
    "    "
   ]
  },
  {
   "cell_type": "code",
   "execution_count": null,
   "id": "793c0b92",
   "metadata": {
    "scrolled": true
   },
   "outputs": [],
   "source": [
    "#reading list and connecting to spotify database\n",
    "spotify = SpotifyAPI(client_id, client_secret)\n",
    "spotify.get_auth()\n",
    "access_token = spotify.access_token\n",
    "query = SpotifyQuery(access_token)"
   ]
  },
  {
   "cell_type": "code",
   "execution_count": null,
   "id": "5b702c7d",
   "metadata": {
    "scrolled": true
   },
   "outputs": [],
   "source": [
    "#gets a list of all artist ids from list with artist names\n",
    "query.get_artistid()"
   ]
  },
  {
   "cell_type": "code",
   "execution_count": null,
   "id": "16878e4a",
   "metadata": {
    "scrolled": true
   },
   "outputs": [],
   "source": [
    "print(query.artist_row)"
   ]
  },
  {
   "cell_type": "code",
   "execution_count": null,
   "id": "8e895f50",
   "metadata": {
    "scrolled": true
   },
   "outputs": [],
   "source": [
    "#iterates through artist id list and gets all album ids and single songs associated to them\n",
    "dictionary = query.get_albums()"
   ]
  },
  {
   "cell_type": "code",
   "execution_count": null,
   "id": "35e27b4c",
   "metadata": {
    "scrolled": true
   },
   "outputs": [],
   "source": [
    "#debugging\n",
    "query.offset_count"
   ]
  },
  {
   "cell_type": "code",
   "execution_count": null,
   "id": "0588774b",
   "metadata": {
    "scrolled": false
   },
   "outputs": [],
   "source": [
    "#debugging\n",
    "#print(dictionary)"
   ]
  },
  {
   "cell_type": "code",
   "execution_count": null,
   "id": "6c96ad88",
   "metadata": {
    "scrolled": true
   },
   "outputs": [],
   "source": [
    "print(dictionary['all_albums'])"
   ]
  },
  {
   "cell_type": "code",
   "execution_count": null,
   "id": "bb9316ac",
   "metadata": {
    "scrolled": true
   },
   "outputs": [],
   "source": [
    "#get all songs from every album id\n",
    "songList = query.get_songs(dictionary)"
   ]
  },
  {
   "cell_type": "code",
   "execution_count": null,
   "id": "bfc74dcd",
   "metadata": {
    "scrolled": false
   },
   "outputs": [],
   "source": [
    "#debugging\n",
    "#print(songList)"
   ]
  },
  {
   "cell_type": "code",
   "execution_count": null,
   "id": "5d288a94",
   "metadata": {
    "scrolled": true
   },
   "outputs": [],
   "source": [
    "#organizes all songs into appropriate list\n",
    "artist_songs = dict()\n",
    "\n",
    "for a in query.artist_row:\n",
    "    artist_songs[a[1]] = [a[0]]\n",
    "    \n",
    "print(artist_songs)"
   ]
  },
  {
   "cell_type": "code",
   "execution_count": null,
   "id": "9cde025e",
   "metadata": {
    "scrolled": false
   },
   "outputs": [],
   "source": [
    "for song in songList:\n",
    "    index = len(song)-1\n",
    "    artist_songs[song[index]].append(song)\n",
    "print(artist_songs)"
   ]
  },
  {
   "cell_type": "code",
   "execution_count": null,
   "id": "170559ce-0bb1-49e0-bb95-05572b79013d",
   "metadata": {
    "scrolled": true
   },
   "outputs": [],
   "source": []
  },
  {
   "cell_type": "code",
   "execution_count": null,
   "id": "d1ec3b38",
   "metadata": {
    "scrolled": true
   },
   "outputs": [],
   "source": []
  },
  {
   "cell_type": "code",
   "execution_count": null,
   "id": "b8448c72",
   "metadata": {
    "scrolled": true
   },
   "outputs": [],
   "source": [
    "\"\"\"\n",
    "all songs are organized in a dictionary under the artist id as a key.\n",
    "added the artist id to the end of the song list. \n",
    "then using the artist list i made a dictionary.\n",
    "populated the dictionary using the artist id at the end of the song list.\n",
    "\n",
    "access data by iterating or looking up a key.\n",
    "\"\"\""
   ]
  },
  {
   "cell_type": "code",
   "execution_count": null,
   "id": "65d52eec",
   "metadata": {
    "scrolled": true
   },
   "outputs": [],
   "source": [
    "#songList = query.get_songs(dictionary)\n",
    "cleanSongList = [];\n",
    "found = False\n",
    "\n",
    "for i in range(0, len(songList)):\n",
    "    for j in range(0, len(cleanSongList)):\n",
    "        if songList[i][0] == cleanSongList[j][0]:\n",
    "            found = True\n",
    "            break\n",
    "    if not found:\n",
    "        cleanSongList.append(songList[i])\n",
    "    found = False\n",
    "for song in cleanSongList:\n",
    "    print(song)\n",
    "    print(\"\\n\")"
   ]
  },
  {
   "cell_type": "code",
   "execution_count": null,
   "id": "9f4ba41b",
   "metadata": {
    "scrolled": true
   },
   "outputs": [],
   "source": [
    "#saving song edges into csv files\n",
    "import csv\n",
    "\n",
    "#create edge list\n",
    "\n",
    "edgelist = [[\"Target\", \"Source\"]]\n",
    "#Assumes max of 3 artists per song\n",
    "for song in cleanSongList:\n",
    "    size = len(song)\n",
    "    if size == 5:\n",
    "        continue\n",
    "    elif size == 7:\n",
    "        edgelist.append([song[3],song[5]])\n",
    "    elif size == 9:\n",
    "        edgelist.append([song[3],song[5]])\n",
    "        edgelist.append([song[3],song[7]])\n",
    "        edgelist.append([song[5],song[7]])\n",
    "\n",
    "with open('edgelist10.csv', 'w') as f:\n",
    "    write = csv.writer(f)\n",
    "    write.writerows(edgelist)\n",
    "\n",
    "\n",
    "# with open('songlist.csv', 'w') as f:\n",
    "#     write = csv.writer(f)\n",
    "#     write.writerows(cleanSongList)"
   ]
  },
  {
   "cell_type": "code",
   "execution_count": null,
   "id": "bcced62e-0219-4260-a617-00dc8a459ca4",
   "metadata": {
    "scrolled": true
   },
   "outputs": [],
   "source": []
  },
  {
   "cell_type": "code",
   "execution_count": null,
   "id": "483798bd-e188-4731-8bf9-30895b6c2115",
   "metadata": {
    "scrolled": true
   },
   "outputs": [],
   "source": []
  }
 ],
 "metadata": {
  "kernelspec": {
   "display_name": "Python 3 (ipykernel)",
   "language": "python",
   "name": "python3"
  },
  "language_info": {
   "codemirror_mode": {
    "name": "ipython",
    "version": 3
   },
   "file_extension": ".py",
   "mimetype": "text/x-python",
   "name": "python",
   "nbconvert_exporter": "python",
   "pygments_lexer": "ipython3",
   "version": "3.10.0"
  }
 },
 "nbformat": 4,
 "nbformat_minor": 5
}
